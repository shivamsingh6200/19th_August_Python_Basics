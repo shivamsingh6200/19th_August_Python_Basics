{
 "cells": [
  {
   "cell_type": "markdown",
   "id": "b47971e1",
   "metadata": {},
   "source": [
    "# Loop questions"
   ]
  },
  {
   "cell_type": "markdown",
   "id": "4bfd3745",
   "metadata": {},
   "source": [
    "### Write a Python program that calculates the factorial of a number using a for loop.\n"
   ]
  },
  {
   "cell_type": "code",
   "execution_count": 5,
   "id": "6d90fcc0",
   "metadata": {},
   "outputs": [
    {
     "name": "stdout",
     "output_type": "stream",
     "text": [
      "Enter the no. : 5\n",
      "factorial of entered no. is :  120\n"
     ]
    }
   ],
   "source": [
    "fact=int(input(\"Enter the no. : \"))\n",
    "factorial=1\n",
    "for i in range(1,fact+1):\n",
    "    factorial=factorial*i\n",
    "print(\"factorial of entered no. is : \",factorial)"
   ]
  },
  {
   "cell_type": "markdown",
   "id": "8b88187b",
   "metadata": {},
   "source": [
    "### Write a Python program to find the largest number in a list using a for loop"
   ]
  },
  {
   "cell_type": "code",
   "execution_count": 4,
   "id": "78ec805c",
   "metadata": {},
   "outputs": [
    {
     "name": "stdout",
     "output_type": "stream",
     "text": [
      "largest no. in list is :  101\n"
     ]
    }
   ],
   "source": [
    "l1=[1,32,66,67,99,12,101,66,34]\n",
    "x1=0\n",
    "for i in l1:\n",
    "    if i > x1:\n",
    "        x1=i\n",
    "print(\"largest no. in list is : \",x1)"
   ]
  },
  {
   "cell_type": "markdown",
   "id": "9253808b",
   "metadata": {},
   "source": [
    "### Create a Python program that prints the Fibonacci sequence up to a specified limit using a for loop"
   ]
  },
  {
   "cell_type": "code",
   "execution_count": 9,
   "id": "c822e4b8",
   "metadata": {},
   "outputs": [
    {
     "name": "stdout",
     "output_type": "stream",
     "text": [
      "Enter the nth term of fibonacci series : 10\n",
      "0 1 1 2 3 5 8 13 21 34 "
     ]
    }
   ],
   "source": [
    "fibo=int(input(\"Enter the nth term of fibonacci series : \"))\n",
    "start=0\n",
    "num2=1\n",
    "for i in range(1,fibo+1):\n",
    "    print(start,end=\" \")\n",
    "    sum1=start+num2\n",
    "    start=num2\n",
    "    num2=sum1"
   ]
  },
  {
   "cell_type": "markdown",
   "id": "1f3017e9",
   "metadata": {},
   "source": [
    "### Write a Python program to find the common elements between two lists using a for loop."
   ]
  },
  {
   "cell_type": "code",
   "execution_count": 11,
   "id": "768e58cb",
   "metadata": {},
   "outputs": [
    {
     "name": "stdout",
     "output_type": "stream",
     "text": [
      "Common elements are :  [55, 'shivam', 22, 35]\n"
     ]
    }
   ],
   "source": [
    "l2=[1,23,55,\"shivam\",34,22,\"raj\",35]\n",
    "l3=[55,2,77,\"shivam\",22,35,67,36,66]\n",
    "common=[]\n",
    "for i in l2:\n",
    "    for j in l3:\n",
    "        if j==i:\n",
    "            common.append(j)\n",
    "print(\"Common elements are : \",common)"
   ]
  },
  {
   "cell_type": "markdown",
   "id": "4801f0d0",
   "metadata": {},
   "source": [
    "### Explain how to use a for loop to iterate through the keys and values of a dictionary in Python."
   ]
  },
  {
   "cell_type": "code",
   "execution_count": 15,
   "id": "1c7b2699",
   "metadata": {},
   "outputs": [
    {
     "name": "stdout",
     "output_type": "stream",
     "text": [
      "name\n",
      "roll\n",
      "dept\n",
      "mob. no.\n"
     ]
    }
   ],
   "source": [
    "dic1={\"name\":\"shivam\",\"roll\":124578,\"dept\":\"I.T\",\"mob. no.\":1234567890}\n",
    "for i in dic1.keys():\n",
    "    print(i)"
   ]
  },
  {
   "cell_type": "code",
   "execution_count": 16,
   "id": "2e75043f",
   "metadata": {},
   "outputs": [
    {
     "name": "stdout",
     "output_type": "stream",
     "text": [
      "shivam\n",
      "124578\n",
      "I.T\n",
      "1234567890\n"
     ]
    }
   ],
   "source": [
    "for i in dic1.values():\n",
    "    print(i)"
   ]
  },
  {
   "cell_type": "code",
   "execution_count": 20,
   "id": "dc2c66e7",
   "metadata": {},
   "outputs": [
    {
     "name": "stdout",
     "output_type": "stream",
     "text": [
      "('name', 'shivam')\n",
      "('roll', 124578)\n",
      "('dept', 'I.T')\n",
      "('mob. no.', 1234567890)\n"
     ]
    }
   ],
   "source": [
    "for i in dic1.items():\n",
    "    print(i)"
   ]
  },
  {
   "cell_type": "code",
   "execution_count": 19,
   "id": "e222d40d",
   "metadata": {},
   "outputs": [
    {
     "name": "stdout",
     "output_type": "stream",
     "text": [
      "name shivam\n",
      "roll 124578\n",
      "dept I.T\n",
      "mob. no. 1234567890\n"
     ]
    }
   ],
   "source": [
    "for i,j in dic1.items():\n",
    "    print(i,j)"
   ]
  },
  {
   "cell_type": "markdown",
   "id": "0304bd05",
   "metadata": {},
   "source": [
    "### Write a Python program to find the GCD (Greatest Common Divisor) of two numbers using a for loop"
   ]
  },
  {
   "cell_type": "code",
   "execution_count": 35,
   "id": "3d04c48a",
   "metadata": {},
   "outputs": [
    {
     "name": "stdout",
     "output_type": "stream",
     "text": [
      "Enter the first no. : 36\n",
      "Enter the second no. : 60\n",
      "Gcd of 36 and 60 is 12\n"
     ]
    }
   ],
   "source": [
    "num3=int(input(\"Enter the first no. : \"))\n",
    "num4=int(input(\"Enter the second no. : \"))\n",
    "if num3>num4:\n",
    "    grestest1=num3\n",
    "else:\n",
    "    grestest1=num4\n",
    "for i in range(grestest1,1,-1):\n",
    "    if num3%i==0 and num4%i==0:\n",
    "        print(\"Gcd of\",num3,\"and\",num4,\"is\",i)\n",
    "        break"
   ]
  },
  {
   "cell_type": "markdown",
   "id": "7b52caa0",
   "metadata": {},
   "source": [
    "### Write a Python program to remove duplicates from a list using a for loop."
   ]
  },
  {
   "cell_type": "code",
   "execution_count": 47,
   "id": "4f6ec7c0",
   "metadata": {},
   "outputs": [
    {
     "name": "stdout",
     "output_type": "stream",
     "text": [
      "Before deletion :  [2, 3, 77, 3, 34, 3, 2, 77, 65, 56, 44, 34, 2]\n",
      "After deletion :  [2, 3, 77, 34, 65, 56, 44]\n"
     ]
    }
   ],
   "source": [
    "l4=[2,3,77,3,34,3,2,77,65,56,44,34,2]\n",
    "print(\"Before deletion : \",l4)\n",
    "temp=[]\n",
    "for i in l4:\n",
    "    if i not in temp:\n",
    "        temp.append(i)\n",
    "print(\"After deletion : \",temp)"
   ]
  },
  {
   "cell_type": "markdown",
   "id": "338a4d16",
   "metadata": {},
   "source": [
    "### Write a Python program to find the LCM (Least Common Multiple) of two numbers using a for loop.\n"
   ]
  },
  {
   "cell_type": "code",
   "execution_count": 58,
   "id": "5480e156",
   "metadata": {},
   "outputs": [
    {
     "name": "stdout",
     "output_type": "stream",
     "text": [
      "Enter the 1st number : 10\n",
      "Enter the 2nd number : 16\n",
      "LCM :  80\n"
     ]
    }
   ],
   "source": [
    "num5=int(input(\"Enter the 1st number : \"))\n",
    "num6=int(input(\"Enter the 2nd number : \"))\n",
    "for i in range(1,num5*num6+1):\n",
    "    if i%num5==0 and i%num6==0:\n",
    "        lcm=i\n",
    "        break\n",
    "print(\"LCM : \",lcm)"
   ]
  },
  {
   "cell_type": "markdown",
   "id": "7097c114",
   "metadata": {},
   "source": [
    "# if else problem"
   ]
  },
  {
   "cell_type": "markdown",
   "id": "c68651f7",
   "metadata": {},
   "source": [
    "### Create a Python program that checks if a given year is a leap year using both if-else and a function."
   ]
  },
  {
   "cell_type": "code",
   "execution_count": 63,
   "id": "7447de97",
   "metadata": {},
   "outputs": [
    {
     "name": "stdout",
     "output_type": "stream",
     "text": [
      "Enter a year : 2004\n",
      "It is a leap year\n"
     ]
    }
   ],
   "source": [
    "def leap_year(year):\n",
    "    if year%4==0 and year%100!=0 or year%400==0:\n",
    "        print(\"It is a leap year\")\n",
    "    else:\n",
    "        print(\"It is not a leap year \")\n",
    "year1=int(input(\"Enter a year : \"))\n",
    "leap_year(year1)"
   ]
  },
  {
   "cell_type": "markdown",
   "id": "181ad3f9",
   "metadata": {},
   "source": [
    "### Write a Python program to determine if a given number is prime or not using if-else"
   ]
  },
  {
   "cell_type": "code",
   "execution_count": 92,
   "id": "a24ad0f6",
   "metadata": {},
   "outputs": [
    {
     "name": "stdout",
     "output_type": "stream",
     "text": [
      "Enter a number : 13\n",
      "It is a prime number \n"
     ]
    }
   ],
   "source": [
    "num7=int(input(\"Enter a number : \"))\n",
    "temp1=0\n",
    "for i in range(2,num7):\n",
    "    if num7%i==0:\n",
    "        temp1=1\n",
    "        break\n",
    "if temp1==0:\n",
    "    print(\"It is a prime number \")\n",
    "elif temp1==1:\n",
    "    print(\"It is not a prime number \")"
   ]
  },
  {
   "cell_type": "markdown",
   "id": "f30c270c",
   "metadata": {},
   "source": [
    "# map questions"
   ]
  },
  {
   "cell_type": "markdown",
   "id": "b54cb90d",
   "metadata": {},
   "source": [
    "### Write a Python program that uses the `map()` function to square each element of a list of numbers.\n"
   ]
  },
  {
   "cell_type": "code",
   "execution_count": 93,
   "id": "3c89534c",
   "metadata": {},
   "outputs": [
    {
     "data": {
      "text/plain": [
       "[1, 4, 9, 16, 25, 36, 49, 64, 81, 100]"
      ]
     },
     "execution_count": 93,
     "metadata": {},
     "output_type": "execute_result"
    }
   ],
   "source": [
    "l5=[1,2,3,4,5,6,7,8,9,10]\n",
    "list(map(lambda a: a**2,l5))"
   ]
  },
  {
   "cell_type": "markdown",
   "id": "67f84257",
   "metadata": {},
   "source": [
    "### Create a Python program that uses the `map()` function to convert a list of names to uppercase."
   ]
  },
  {
   "cell_type": "code",
   "execution_count": 94,
   "id": "d60ab39b",
   "metadata": {},
   "outputs": [
    {
     "data": {
      "text/plain": [
       "['SHIVAM', 'SINGH', 'RAJ', 'RAHUL']"
      ]
     },
     "execution_count": 94,
     "metadata": {},
     "output_type": "execute_result"
    }
   ],
   "source": [
    "l6=[\"shivam\",\"singh\",\"raj\",\"rahul\"]\n",
    "list(map(lambda a : a.upper(),l6))"
   ]
  },
  {
   "cell_type": "markdown",
   "id": "1c916591",
   "metadata": {},
   "source": [
    "### Write a Python program that uses the `map()` function to calculate the length of each word in a list of strings."
   ]
  },
  {
   "cell_type": "code",
   "execution_count": 95,
   "id": "2a34a108",
   "metadata": {},
   "outputs": [
    {
     "data": {
      "text/plain": [
       "[6, 5, 3, 5]"
      ]
     },
     "execution_count": 95,
     "metadata": {},
     "output_type": "execute_result"
    }
   ],
   "source": [
    "l6=[\"shivam\",\"singh\",\"raj\",\"rahul\"]\n",
    "list(map(lambda a : len(a),l6))"
   ]
  },
  {
   "cell_type": "markdown",
   "id": "e3d56496",
   "metadata": {},
   "source": [
    "### Create a Python program that uses `map()` to convert a list of temperatures from Celsius to Fahrenheit"
   ]
  },
  {
   "cell_type": "code",
   "execution_count": 96,
   "id": "b4139c32",
   "metadata": {},
   "outputs": [
    {
     "data": {
      "text/plain": [
       "[68.0, 95.0, 96.8, 71.6, 89.6, 86.0]"
      ]
     },
     "execution_count": 96,
     "metadata": {},
     "output_type": "execute_result"
    }
   ],
   "source": [
    "l7=[20,35,36,22,32,30]\n",
    "list(map(lambda a : (a*1.8)+32,l7))"
   ]
  },
  {
   "cell_type": "markdown",
   "id": "21063983",
   "metadata": {},
   "source": [
    "### Write a Python program that uses the `map()` function to round each element of a list of floating-point numbers to the nearest integer.\n"
   ]
  },
  {
   "cell_type": "code",
   "execution_count": 98,
   "id": "bf81caf3",
   "metadata": {},
   "outputs": [
    {
     "data": {
      "text/plain": [
       "[4, 4, 6, 6, 8, 3, 3, 2]"
      ]
     },
     "execution_count": 98,
     "metadata": {},
     "output_type": "execute_result"
    }
   ],
   "source": [
    "l8=[3.8,4.2,5.5,6.4,7.7,2.6,2.9,2.2]\n",
    "list(map(lambda a : round(a),l8))"
   ]
  },
  {
   "cell_type": "markdown",
   "id": "0beaed88",
   "metadata": {},
   "source": [
    "### reduce function question"
   ]
  },
  {
   "cell_type": "markdown",
   "id": "31a122c1",
   "metadata": {},
   "source": [
    "### Write a Python program that uses the `reduce()` function to find the product of all elements in a list.\n"
   ]
  },
  {
   "cell_type": "code",
   "execution_count": 99,
   "id": "c4e19d31",
   "metadata": {},
   "outputs": [],
   "source": [
    "from functools import reduce"
   ]
  },
  {
   "cell_type": "code",
   "execution_count": 100,
   "id": "f52df683",
   "metadata": {},
   "outputs": [
    {
     "data": {
      "text/plain": [
       "120"
      ]
     },
     "execution_count": 100,
     "metadata": {},
     "output_type": "execute_result"
    }
   ],
   "source": [
    "l9=[1,2,3,4,5]\n",
    "reduce(lambda a,b : a*b ,l9)"
   ]
  },
  {
   "cell_type": "markdown",
   "id": "36d5846f",
   "metadata": {},
   "source": [
    "### Create a Python program that uses `reduce()` to find the maximum element in a list of numbers."
   ]
  },
  {
   "cell_type": "code",
   "execution_count": 101,
   "id": "4f0b4563",
   "metadata": {},
   "outputs": [
    {
     "data": {
      "text/plain": [
       "36"
      ]
     },
     "execution_count": 101,
     "metadata": {},
     "output_type": "execute_result"
    }
   ],
   "source": [
    "l10=[20,35,36,22,32,30]\n",
    "reduce(lambda a,b : a if a>b else b,l10)"
   ]
  },
  {
   "cell_type": "markdown",
   "id": "f9cfe229",
   "metadata": {},
   "source": [
    "### How can you use the `reduce()` function to concatenate a list of strings into a single string?"
   ]
  },
  {
   "cell_type": "code",
   "execution_count": 103,
   "id": "4da3d0ad",
   "metadata": {},
   "outputs": [
    {
     "data": {
      "text/plain": [
       "'shivam singh raj rahul'"
      ]
     },
     "execution_count": 103,
     "metadata": {},
     "output_type": "execute_result"
    }
   ],
   "source": [
    "l11=[\"shivam\",\"singh\",\"raj\",\"rahul\"]\n",
    "reduce(lambda a,b : \" \".join([a,b]),l11)"
   ]
  },
  {
   "cell_type": "markdown",
   "id": "ef7907d1",
   "metadata": {},
   "source": [
    "### Write a Python program that calculates the factorial of a number using the `reduce()` function"
   ]
  },
  {
   "cell_type": "code",
   "execution_count": 104,
   "id": "1af7910d",
   "metadata": {},
   "outputs": [
    {
     "name": "stdout",
     "output_type": "stream",
     "text": [
      "Enter a number : 5\n"
     ]
    },
    {
     "data": {
      "text/plain": [
       "120"
      ]
     },
     "execution_count": 104,
     "metadata": {},
     "output_type": "execute_result"
    }
   ],
   "source": [
    "num8=int(input(\"Enter a number : \"))\n",
    "reduce(lambda a,b : a*b,range(1,num8+1))"
   ]
  },
  {
   "cell_type": "markdown",
   "id": "0e4eddc3",
   "metadata": {},
   "source": [
    "### Create a Python program that uses `reduce()` to find the GCD (Greatest Common Divisor) of a list of numbers."
   ]
  },
  {
   "cell_type": "code",
   "execution_count": 106,
   "id": "6eded46b",
   "metadata": {},
   "outputs": [
    {
     "data": {
      "text/plain": [
       "3"
      ]
     },
     "execution_count": 106,
     "metadata": {},
     "output_type": "execute_result"
    }
   ],
   "source": [
    "l12 = [12, 24, 27, 30, 36]\n",
    "def gcd_list(a,b):\n",
    "    if a>b:\n",
    "        grestest1=a\n",
    "    else:\n",
    "        grestest1=b\n",
    "    for i in range(grestest1,1,-1):\n",
    "        if a%i==0 and b%i==0:\n",
    "            break\n",
    "    return i\n",
    "reduce(gcd_list,l12)"
   ]
  },
  {
   "cell_type": "markdown",
   "id": "3c7f61b2",
   "metadata": {},
   "source": [
    "### Write a Python program that uses the `reduce()` function to find the sum of the digits of a given number."
   ]
  },
  {
   "cell_type": "code",
   "execution_count": 125,
   "id": "ec3e2ab7",
   "metadata": {},
   "outputs": [
    {
     "name": "stdout",
     "output_type": "stream",
     "text": [
      "Enter a number : 77\n"
     ]
    },
    {
     "data": {
      "text/plain": [
       "14"
      ]
     },
     "execution_count": 125,
     "metadata": {},
     "output_type": "execute_result"
    }
   ],
   "source": [
    "num9=int(input(\"Enter a number : \"))\n",
    "def getsum(a,b):\n",
    "    return int(a)+int(b)\n",
    "reduce(getsum,list(str(num9)))"
   ]
  },
  {
   "cell_type": "markdown",
   "id": "f551f243",
   "metadata": {},
   "source": [
    "# Filter function question"
   ]
  },
  {
   "cell_type": "markdown",
   "id": "cc16a74c",
   "metadata": {},
   "source": [
    "### Write a Python program that uses the `filter()` function to select even numbers from a list of integers"
   ]
  },
  {
   "cell_type": "code",
   "execution_count": 126,
   "id": "3e40544d",
   "metadata": {},
   "outputs": [
    {
     "data": {
      "text/plain": [
       "[2, 4, 6, 8, 10]"
      ]
     },
     "execution_count": 126,
     "metadata": {},
     "output_type": "execute_result"
    }
   ],
   "source": [
    "l13=[1,2,3,4,5,6,7,8,9,10]\n",
    "list(filter(lambda x: x%2==0,l13))"
   ]
  },
  {
   "cell_type": "markdown",
   "id": "b8cdd939",
   "metadata": {},
   "source": [
    "### Write a Python program that uses the `filter()` function to select prime numbers from a list of integer"
   ]
  },
  {
   "cell_type": "code",
   "execution_count": 144,
   "id": "235316f5",
   "metadata": {},
   "outputs": [
    {
     "data": {
      "text/plain": [
       "[2, 3, 5, 7, 11]"
      ]
     },
     "execution_count": 144,
     "metadata": {},
     "output_type": "execute_result"
    }
   ],
   "source": [
    "l13=[2,3,4,5,6,7,8,9,10,11,12]\n",
    "def prime_check(x):\n",
    "    temp=0\n",
    "    for i in range(2,x):\n",
    "        if x%i==0:\n",
    "            temp=1\n",
    "            break\n",
    "    if temp==0:\n",
    "        return x\n",
    "list(filter(prime_check,l13))"
   ]
  },
  {
   "cell_type": "markdown",
   "id": "7ad8140c",
   "metadata": {},
   "source": [
    "### How can you use the `filter()` function to remove None values from a list in Python?"
   ]
  },
  {
   "cell_type": "code",
   "execution_count": 156,
   "id": "d7607115",
   "metadata": {},
   "outputs": [
    {
     "data": {
      "text/plain": [
       "[1, 2, 234, 45]"
      ]
     },
     "execution_count": 156,
     "metadata": {},
     "output_type": "execute_result"
    }
   ],
   "source": [
    "l14=[1,2,None,234,None,45,None]\n",
    "list(filter(lambda x: x is not None, l14))"
   ]
  },
  {
   "cell_type": "markdown",
   "id": "d2897040",
   "metadata": {},
   "source": [
    "# Recursion:-"
   ]
  },
  {
   "cell_type": "markdown",
   "id": "c63a2b7a",
   "metadata": {},
   "source": [
    "###  Write a Python program to calculate the factorial of a number using recursion."
   ]
  },
  {
   "cell_type": "code",
   "execution_count": 1,
   "id": "e9fecd0f",
   "metadata": {},
   "outputs": [],
   "source": [
    "def factorial_rec(n):\n",
    "    if n==0:\n",
    "        return 1\n",
    "    else:\n",
    "        return n*factorial_rec(n-1)"
   ]
  },
  {
   "cell_type": "code",
   "execution_count": 4,
   "id": "2736c2d9",
   "metadata": {},
   "outputs": [
    {
     "data": {
      "text/plain": [
       "120"
      ]
     },
     "execution_count": 4,
     "metadata": {},
     "output_type": "execute_result"
    }
   ],
   "source": [
    "factorial_rec(5)"
   ]
  },
  {
   "cell_type": "markdown",
   "id": "b14c5180",
   "metadata": {},
   "source": [
    "### Create a recursive Python function to find the nth Fibonacci number.\n"
   ]
  },
  {
   "cell_type": "code",
   "execution_count": 3,
   "id": "255f80bb",
   "metadata": {},
   "outputs": [],
   "source": [
    "def fibo_rec(n):\n",
    "    if n<= 0:\n",
    "        print(\"Incorrect input\")\n",
    "    elif n == 1:\n",
    "        return 0\n",
    "    elif n == 2:\n",
    "        return 1\n",
    "    else:\n",
    "        return fibo_rec(n-1)+fibo_rec(n-2)"
   ]
  },
  {
   "cell_type": "code",
   "execution_count": 4,
   "id": "93cd1f5e",
   "metadata": {},
   "outputs": [
    {
     "data": {
      "text/plain": [
       "3"
      ]
     },
     "execution_count": 4,
     "metadata": {},
     "output_type": "execute_result"
    }
   ],
   "source": [
    "fibo_rec(5)"
   ]
  },
  {
   "cell_type": "markdown",
   "id": "67db9386",
   "metadata": {},
   "source": [
    "### Write a recursive Python function to calculate the sum of all elements in a list."
   ]
  },
  {
   "cell_type": "code",
   "execution_count": 12,
   "id": "52bc6945",
   "metadata": {},
   "outputs": [],
   "source": [
    "def sum_all_list(n):\n",
    "    if len(n)==0:\n",
    "            return 0\n",
    "    else:\n",
    "        return n[0] + sum_all_list(n[1:]) "
   ]
  },
  {
   "cell_type": "code",
   "execution_count": 13,
   "id": "9e7cbaaf",
   "metadata": {},
   "outputs": [
    {
     "data": {
      "text/plain": [
       "15"
      ]
     },
     "execution_count": 13,
     "metadata": {},
     "output_type": "execute_result"
    }
   ],
   "source": [
    "sum_all_list([1,2,3,4,5])"
   ]
  },
  {
   "cell_type": "markdown",
   "id": "5eb8669b",
   "metadata": {},
   "source": [
    "### Write a recursive Python function to reverse a string."
   ]
  },
  {
   "cell_type": "code",
   "execution_count": 17,
   "id": "e20b7407",
   "metadata": {},
   "outputs": [],
   "source": [
    "def str_reverse(s):\n",
    "    if s == \"\":\n",
    "        return s\n",
    "    else:\n",
    "        return str_reverse(s[1:]) + s[0]"
   ]
  },
  {
   "cell_type": "code",
   "execution_count": 18,
   "id": "15d452bd",
   "metadata": {},
   "outputs": [
    {
     "data": {
      "text/plain": [
       "'mavihs'"
      ]
     },
     "execution_count": 18,
     "metadata": {},
     "output_type": "execute_result"
    }
   ],
   "source": [
    "s=\"shivam\"\n",
    "str_reverse(s)"
   ]
  },
  {
   "cell_type": "markdown",
   "id": "4e804880",
   "metadata": {},
   "source": [
    "### Create a recursive Python function to calculate the power of a number (x^n)."
   ]
  },
  {
   "cell_type": "code",
   "execution_count": 25,
   "id": "5cccb96f",
   "metadata": {},
   "outputs": [],
   "source": [
    "def power_num(x,n):\n",
    "    if n<1:\n",
    "        return 1\n",
    "    else:\n",
    "        return x*power_num(x,n-1)"
   ]
  },
  {
   "cell_type": "code",
   "execution_count": 29,
   "id": "6bcfb41f",
   "metadata": {},
   "outputs": [
    {
     "data": {
      "text/plain": [
       "25"
      ]
     },
     "execution_count": 29,
     "metadata": {},
     "output_type": "execute_result"
    }
   ],
   "source": [
    "power_num(5,2)"
   ]
  },
  {
   "cell_type": "markdown",
   "id": "28fe6742",
   "metadata": {},
   "source": [
    "### Write a recursive Python function to check if a string is a palindrome."
   ]
  },
  {
   "cell_type": "code",
   "execution_count": 56,
   "id": "8698903e",
   "metadata": {},
   "outputs": [],
   "source": [
    "check_str=\"madam\"\n",
    "def palin_check(check_str,a=0,b=len(check_str)-1):\n",
    "    mid=(a+b)//2\n",
    "    if check_str[a]==check_str[b] and a<=mid:\n",
    "        palin_check(check_str,a+1,b-1)\n",
    "    else:\n",
    "        return \"Not palindrom\"\n",
    "    return \"Palindrom\""
   ]
  },
  {
   "cell_type": "code",
   "execution_count": 57,
   "id": "157211c5",
   "metadata": {},
   "outputs": [
    {
     "data": {
      "text/plain": [
       "'Palindrom'"
      ]
     },
     "execution_count": 57,
     "metadata": {},
     "output_type": "execute_result"
    }
   ],
   "source": [
    "palin_check(check_str)"
   ]
  },
  {
   "cell_type": "code",
   "execution_count": null,
   "id": "dc67d4dd",
   "metadata": {},
   "outputs": [],
   "source": []
  },
  {
   "cell_type": "code",
   "execution_count": null,
   "id": "d2584c89",
   "metadata": {},
   "outputs": [],
   "source": []
  }
 ],
 "metadata": {
  "kernelspec": {
   "display_name": "Python 3 (ipykernel)",
   "language": "python",
   "name": "python3"
  },
  "language_info": {
   "codemirror_mode": {
    "name": "ipython",
    "version": 3
   },
   "file_extension": ".py",
   "mimetype": "text/x-python",
   "name": "python",
   "nbconvert_exporter": "python",
   "pygments_lexer": "ipython3",
   "version": "3.9.13"
  }
 },
 "nbformat": 4,
 "nbformat_minor": 5
}
