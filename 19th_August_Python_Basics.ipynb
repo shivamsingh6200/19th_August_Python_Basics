{
 "cells": [
  {
   "cell_type": "code",
   "execution_count": 97,
   "id": "e68a0a49",
   "metadata": {},
   "outputs": [
    {
     "data": {
      "text/plain": [
       "' Declare two variables, `x` and `y`, and assign them integer values. Swap the values of these variables without using any temporary variable.'"
      ]
     },
     "execution_count": 97,
     "metadata": {},
     "output_type": "execute_result"
    }
   ],
   "source": [
    "''' Declare two variables, `x` and `y`, and assign them integer values. Swap the values of these variables without using any temporary variable.'''"
   ]
  },
  {
   "cell_type": "code",
   "execution_count": 78,
   "id": "3c09a3d8",
   "metadata": {},
   "outputs": [],
   "source": [
    "x=5\n",
    "y=9\n"
   ]
  },
  {
   "cell_type": "code",
   "execution_count": 79,
   "id": "2360f285",
   "metadata": {},
   "outputs": [
    {
     "data": {
      "text/plain": [
       "'Before Swapping : '"
      ]
     },
     "execution_count": 79,
     "metadata": {},
     "output_type": "execute_result"
    }
   ],
   "source": [
    "'Before Swapping : '"
   ]
  },
  {
   "cell_type": "code",
   "execution_count": 80,
   "id": "f5af915c",
   "metadata": {},
   "outputs": [
    {
     "data": {
      "text/plain": [
       "(5, 9)"
      ]
     },
     "execution_count": 80,
     "metadata": {},
     "output_type": "execute_result"
    }
   ],
   "source": [
    "x,y"
   ]
  },
  {
   "cell_type": "code",
   "execution_count": 81,
   "id": "2040419b",
   "metadata": {},
   "outputs": [],
   "source": [
    "x=x+y"
   ]
  },
  {
   "cell_type": "code",
   "execution_count": 82,
   "id": "be9ac893",
   "metadata": {},
   "outputs": [],
   "source": [
    "y=x-y"
   ]
  },
  {
   "cell_type": "code",
   "execution_count": 83,
   "id": "c6cc6d3d",
   "metadata": {},
   "outputs": [],
   "source": [
    "x=x-y"
   ]
  },
  {
   "cell_type": "code",
   "execution_count": 84,
   "id": "7ce665fa",
   "metadata": {},
   "outputs": [
    {
     "data": {
      "text/plain": [
       "'After swapping :'"
      ]
     },
     "execution_count": 84,
     "metadata": {},
     "output_type": "execute_result"
    }
   ],
   "source": [
    "\"After swapping :\"\n"
   ]
  },
  {
   "cell_type": "code",
   "execution_count": 85,
   "id": "15e6ef62",
   "metadata": {},
   "outputs": [
    {
     "data": {
      "text/plain": [
       "(9, 5)"
      ]
     },
     "execution_count": 85,
     "metadata": {},
     "output_type": "execute_result"
    }
   ],
   "source": [
    "x,y"
   ]
  },
  {
   "cell_type": "code",
   "execution_count": null,
   "id": "b803a144",
   "metadata": {},
   "outputs": [],
   "source": []
  },
  {
   "cell_type": "code",
   "execution_count": 96,
   "id": "205885c7",
   "metadata": {},
   "outputs": [
    {
     "data": {
      "text/plain": [
       "'Create a program that calculates the area of a rectangle. Take the length and width as inputs from the user and store them in variables. Calculate and display the area.'"
      ]
     },
     "execution_count": 96,
     "metadata": {},
     "output_type": "execute_result"
    }
   ],
   "source": [
    "'''Create a program that calculates the area of a rectangle. Take the length and width as inputs from the user and store them in variables. Calculate and display the area.'''"
   ]
  },
  {
   "cell_type": "code",
   "execution_count": 87,
   "id": "a290041b",
   "metadata": {},
   "outputs": [
    {
     "data": {
      "text/plain": [
       "'Enter the length and breadth'"
      ]
     },
     "execution_count": 87,
     "metadata": {},
     "output_type": "execute_result"
    }
   ],
   "source": [
    "\"Enter the length and breadth\"\n"
   ]
  },
  {
   "cell_type": "code",
   "execution_count": 88,
   "id": "3bcf96cf",
   "metadata": {},
   "outputs": [
    {
     "name": "stdout",
     "output_type": "stream",
     "text": [
      "5\n",
      "6\n"
     ]
    }
   ],
   "source": [
    "a=int(input())\n",
    "b=int(input())"
   ]
  },
  {
   "cell_type": "code",
   "execution_count": 89,
   "id": "4d7fdea4",
   "metadata": {},
   "outputs": [],
   "source": [
    "area=a*b"
   ]
  },
  {
   "cell_type": "code",
   "execution_count": 90,
   "id": "c444b2ae",
   "metadata": {},
   "outputs": [
    {
     "name": "stdout",
     "output_type": "stream",
     "text": [
      "area =  30\n"
     ]
    }
   ],
   "source": [
    "print (\"area = \",area)"
   ]
  },
  {
   "cell_type": "code",
   "execution_count": null,
   "id": "76d37f19",
   "metadata": {},
   "outputs": [],
   "source": []
  },
  {
   "cell_type": "code",
   "execution_count": 95,
   "id": "8da8fd46",
   "metadata": {},
   "outputs": [
    {
     "data": {
      "text/plain": [
       "'Write a Python program that converts temperatures from Celsius to Fahrenheit. Take the temperature in Celsius as input, store it in a variable, convert it to Fahrenheit, and display the result.'"
      ]
     },
     "execution_count": 95,
     "metadata": {},
     "output_type": "execute_result"
    }
   ],
   "source": [
    "'''Write a Python program that converts temperatures from Celsius to Fahrenheit. Take the temperature in Celsius as input, store it in a variable, convert it to Fahrenheit, and display the result.'''"
   ]
  },
  {
   "cell_type": "code",
   "execution_count": 91,
   "id": "d11a9323",
   "metadata": {},
   "outputs": [
    {
     "data": {
      "text/plain": [
       "'Enter the temp. in celcius'"
      ]
     },
     "execution_count": 91,
     "metadata": {},
     "output_type": "execute_result"
    }
   ],
   "source": [
    "\"Enter the temp. in celcius\"\n"
   ]
  },
  {
   "cell_type": "code",
   "execution_count": 92,
   "id": "7fb248ce",
   "metadata": {},
   "outputs": [
    {
     "name": "stdout",
     "output_type": "stream",
     "text": [
      "32\n"
     ]
    }
   ],
   "source": [
    "cel=int(input())"
   ]
  },
  {
   "cell_type": "code",
   "execution_count": 93,
   "id": "dba6246d",
   "metadata": {},
   "outputs": [],
   "source": [
    "fah=cel*1.8 + 32"
   ]
  },
  {
   "cell_type": "code",
   "execution_count": 94,
   "id": "c14afba6",
   "metadata": {},
   "outputs": [
    {
     "name": "stdout",
     "output_type": "stream",
     "text": [
      "temp. in fahrenheit =  89.6\n"
     ]
    }
   ],
   "source": [
    "print(\"temp. in fahrenheit = \",fah)"
   ]
  },
  {
   "cell_type": "code",
   "execution_count": null,
   "id": "4649852d",
   "metadata": {},
   "outputs": [],
   "source": []
  },
  {
   "cell_type": "code",
   "execution_count": 37,
   "id": "55c1241b",
   "metadata": {},
   "outputs": [
    {
     "data": {
      "text/plain": [
       "'Write a Python program that takes a string as input and prints the length of the string.'"
      ]
     },
     "execution_count": 37,
     "metadata": {},
     "output_type": "execute_result"
    }
   ],
   "source": [
    "'''Write a Python program that takes a string as input and prints the length of the string.'''"
   ]
  },
  {
   "cell_type": "code",
   "execution_count": 98,
   "id": "7911db99",
   "metadata": {},
   "outputs": [
    {
     "data": {
      "text/plain": [
       "'Enter the string'"
      ]
     },
     "execution_count": 98,
     "metadata": {},
     "output_type": "execute_result"
    }
   ],
   "source": [
    "\"Enter the string\""
   ]
  },
  {
   "cell_type": "code",
   "execution_count": 38,
   "id": "bd029968",
   "metadata": {},
   "outputs": [
    {
     "name": "stdout",
     "output_type": "stream",
     "text": [
      "shivam\n"
     ]
    }
   ],
   "source": [
    "str=input()"
   ]
  },
  {
   "cell_type": "code",
   "execution_count": 39,
   "id": "354425f3",
   "metadata": {},
   "outputs": [],
   "source": [
    "len=len(str)"
   ]
  },
  {
   "cell_type": "code",
   "execution_count": 41,
   "id": "92981588",
   "metadata": {},
   "outputs": [
    {
     "name": "stdout",
     "output_type": "stream",
     "text": [
      "length of string =  6\n"
     ]
    }
   ],
   "source": [
    "print(\"length of string = \",len)"
   ]
  },
  {
   "cell_type": "code",
   "execution_count": null,
   "id": "863d070a",
   "metadata": {},
   "outputs": [],
   "source": []
  },
  {
   "cell_type": "code",
   "execution_count": 99,
   "id": "41de27a4",
   "metadata": {},
   "outputs": [
    {
     "data": {
      "text/plain": [
       "'Create a program that takes a sentence from the user and counts the number of vowels (a, e, i, o, u) in the string.'"
      ]
     },
     "execution_count": 99,
     "metadata": {},
     "output_type": "execute_result"
    }
   ],
   "source": [
    "'''Create a program that takes a sentence from the user and counts the number of vowels (a, e, i, o, u) in the string.'''"
   ]
  },
  {
   "cell_type": "code",
   "execution_count": 103,
   "id": "4eebb6e1",
   "metadata": {},
   "outputs": [
    {
     "data": {
      "text/plain": [
       "'Enter the sentence'"
      ]
     },
     "execution_count": 103,
     "metadata": {},
     "output_type": "execute_result"
    }
   ],
   "source": [
    "\"Enter the sentence\""
   ]
  },
  {
   "cell_type": "code",
   "execution_count": 104,
   "id": "64096306",
   "metadata": {},
   "outputs": [
    {
     "name": "stdout",
     "output_type": "stream",
     "text": [
      "my name is shivam singh chauhan\n"
     ]
    }
   ],
   "source": [
    "str=input()\n"
   ]
  },
  {
   "cell_type": "code",
   "execution_count": 105,
   "id": "60f29666",
   "metadata": {},
   "outputs": [],
   "source": [
    "a1=str.count('a')\n",
    "a2=str.count('e')\n",
    "a3=str.count('i')\n",
    "a4=str.count('o')\n",
    "a5=str.count('u')\n",
    "a6=str.count('A')\n",
    "a7=str.count('E')\n",
    "a8=str.count('I')\n",
    "a9=str.count('O')\n",
    "a10=str.count('U')"
   ]
  },
  {
   "cell_type": "code",
   "execution_count": 106,
   "id": "90e868a1",
   "metadata": {},
   "outputs": [],
   "source": [
    "a=a1+a2+a3+a4+a5+a6+a7+a8+a9+a10"
   ]
  },
  {
   "cell_type": "code",
   "execution_count": 107,
   "id": "5d2d5c71",
   "metadata": {},
   "outputs": [
    {
     "name": "stdout",
     "output_type": "stream",
     "text": [
      "no. of vowels =  9\n"
     ]
    }
   ],
   "source": [
    "print(\"no. of vowels = \",a)\n"
   ]
  },
  {
   "cell_type": "code",
   "execution_count": null,
   "id": "48a99ba5",
   "metadata": {},
   "outputs": [],
   "source": []
  },
  {
   "cell_type": "code",
   "execution_count": 55,
   "id": "88b733c6",
   "metadata": {},
   "outputs": [
    {
     "data": {
      "text/plain": [
       "'Given a string, reverse the order of characters using string slicing and print the reversed string.'"
      ]
     },
     "execution_count": 55,
     "metadata": {},
     "output_type": "execute_result"
    }
   ],
   "source": [
    "'''Given a string, reverse the order of characters using string slicing and print the reversed string.'''"
   ]
  },
  {
   "cell_type": "code",
   "execution_count": 101,
   "id": "ece90f72",
   "metadata": {},
   "outputs": [
    {
     "data": {
      "text/plain": [
       "'Enter the string'"
      ]
     },
     "execution_count": 101,
     "metadata": {},
     "output_type": "execute_result"
    }
   ],
   "source": [
    "\"Enter the string\""
   ]
  },
  {
   "cell_type": "code",
   "execution_count": 56,
   "id": "d72e0ab7",
   "metadata": {},
   "outputs": [
    {
     "name": "stdout",
     "output_type": "stream",
     "text": [
      "shivam singh\n"
     ]
    }
   ],
   "source": [
    "str=input()"
   ]
  },
  {
   "cell_type": "code",
   "execution_count": 59,
   "id": "6e58d4e8",
   "metadata": {},
   "outputs": [
    {
     "name": "stdout",
     "output_type": "stream",
     "text": [
      "Reversed string is :  hgnis mavihs\n"
     ]
    }
   ],
   "source": [
    "print(\"Reversed string is : \",str[::-1])"
   ]
  },
  {
   "cell_type": "code",
   "execution_count": null,
   "id": "0c50ef08",
   "metadata": {},
   "outputs": [],
   "source": []
  },
  {
   "cell_type": "code",
   "execution_count": 61,
   "id": "ae9c81ea",
   "metadata": {},
   "outputs": [
    {
     "data": {
      "text/plain": [
       "'Write a program that takes a string as input and checks if it is a palindrome.'"
      ]
     },
     "execution_count": 61,
     "metadata": {},
     "output_type": "execute_result"
    }
   ],
   "source": [
    "'''Write a program that takes a string as input and checks if it is a palindrome.'''"
   ]
  },
  {
   "cell_type": "code",
   "execution_count": 114,
   "id": "798306fd",
   "metadata": {},
   "outputs": [
    {
     "data": {
      "text/plain": [
       "'Enter a string'"
      ]
     },
     "execution_count": 114,
     "metadata": {},
     "output_type": "execute_result"
    }
   ],
   "source": [
    "\"Enter a string\""
   ]
  },
  {
   "cell_type": "code",
   "execution_count": 115,
   "id": "e9539a64",
   "metadata": {},
   "outputs": [
    {
     "name": "stdout",
     "output_type": "stream",
     "text": [
      "madam\n"
     ]
    }
   ],
   "source": [
    "str=input()"
   ]
  },
  {
   "cell_type": "code",
   "execution_count": 116,
   "id": "f35f4077",
   "metadata": {},
   "outputs": [],
   "source": [
    "str2=str[::-1]"
   ]
  },
  {
   "cell_type": "code",
   "execution_count": 117,
   "id": "89c25367",
   "metadata": {},
   "outputs": [
    {
     "data": {
      "text/plain": [
       "'madam'"
      ]
     },
     "execution_count": 117,
     "metadata": {},
     "output_type": "execute_result"
    }
   ],
   "source": [
    "str2"
   ]
  },
  {
   "cell_type": "code",
   "execution_count": 118,
   "id": "1468e2ee",
   "metadata": {},
   "outputs": [
    {
     "data": {
      "text/plain": [
       "True"
      ]
     },
     "execution_count": 118,
     "metadata": {},
     "output_type": "execute_result"
    }
   ],
   "source": [
    "str==str2"
   ]
  },
  {
   "cell_type": "code",
   "execution_count": null,
   "id": "aef0485f",
   "metadata": {},
   "outputs": [],
   "source": []
  },
  {
   "cell_type": "code",
   "execution_count": 67,
   "id": "e2d9a33e",
   "metadata": {},
   "outputs": [
    {
     "data": {
      "text/plain": [
       "'Create a program that takes a string as input and removes all the spaces from it. Print the modified string without spaces.'"
      ]
     },
     "execution_count": 67,
     "metadata": {},
     "output_type": "execute_result"
    }
   ],
   "source": [
    "'''Create a program that takes a string as input and removes all the spaces from it. Print the modified string without spaces.'''"
   ]
  },
  {
   "cell_type": "code",
   "execution_count": 108,
   "id": "3e2eaf20",
   "metadata": {},
   "outputs": [
    {
     "data": {
      "text/plain": [
       "'Enter a string'"
      ]
     },
     "execution_count": 108,
     "metadata": {},
     "output_type": "execute_result"
    }
   ],
   "source": [
    "\"Enter a string\""
   ]
  },
  {
   "cell_type": "code",
   "execution_count": 68,
   "id": "448f6785",
   "metadata": {},
   "outputs": [
    {
     "name": "stdout",
     "output_type": "stream",
     "text": [
      "my name is rahul naam toh suna hi hoga\n"
     ]
    }
   ],
   "source": [
    "str=input()"
   ]
  },
  {
   "cell_type": "code",
   "execution_count": 69,
   "id": "8796ac36",
   "metadata": {},
   "outputs": [],
   "source": [
    "str=str.replace(\" \",\"\")"
   ]
  },
  {
   "cell_type": "code",
   "execution_count": 71,
   "id": "13cc0475",
   "metadata": {},
   "outputs": [
    {
     "name": "stdout",
     "output_type": "stream",
     "text": [
      "String without space :  mynameisrahulnaamtohsunahihoga\n"
     ]
    }
   ],
   "source": [
    "print(\"String without space : \",str)"
   ]
  },
  {
   "cell_type": "code",
   "execution_count": null,
   "id": "9897ca81",
   "metadata": {},
   "outputs": [],
   "source": []
  }
 ],
 "metadata": {
  "kernelspec": {
   "display_name": "Python 3 (ipykernel)",
   "language": "python",
   "name": "python3"
  },
  "language_info": {
   "codemirror_mode": {
    "name": "ipython",
    "version": 3
   },
   "file_extension": ".py",
   "mimetype": "text/x-python",
   "name": "python",
   "nbconvert_exporter": "python",
   "pygments_lexer": "ipython3",
   "version": "3.9.13"
  }
 },
 "nbformat": 4,
 "nbformat_minor": 5
}
