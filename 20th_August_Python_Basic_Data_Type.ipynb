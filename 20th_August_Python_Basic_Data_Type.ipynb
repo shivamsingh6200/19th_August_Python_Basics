{
 "cells": [
  {
   "cell_type": "markdown",
   "id": "b054e3e9",
   "metadata": {},
   "source": [
    "# TOPIC: String Based Assignment Problem\n"
   ]
  },
  {
   "cell_type": "markdown",
   "id": "907dcbd2",
   "metadata": {},
   "source": [
    "### Write a program to reverse a string."
   ]
  },
  {
   "cell_type": "code",
   "execution_count": 1,
   "id": "d6e1461e",
   "metadata": {},
   "outputs": [
    {
     "data": {
      "text/plain": [
       "'Enter a string'"
      ]
     },
     "execution_count": 1,
     "metadata": {},
     "output_type": "execute_result"
    }
   ],
   "source": [
    "\"Enter a string\""
   ]
  },
  {
   "cell_type": "code",
   "execution_count": 2,
   "id": "810ebcb2",
   "metadata": {},
   "outputs": [
    {
     "name": "stdout",
     "output_type": "stream",
     "text": [
      "shivam singh\n"
     ]
    }
   ],
   "source": [
    "str1=input()"
   ]
  },
  {
   "cell_type": "code",
   "execution_count": 3,
   "id": "59001c3c",
   "metadata": {},
   "outputs": [
    {
     "data": {
      "text/plain": [
       "'hgnis mavihs'"
      ]
     },
     "execution_count": 3,
     "metadata": {},
     "output_type": "execute_result"
    }
   ],
   "source": [
    "str1[::-1]"
   ]
  },
  {
   "cell_type": "markdown",
   "id": "122c707c",
   "metadata": {},
   "source": [
    "### Check if a string is a palindrome.\n"
   ]
  },
  {
   "cell_type": "code",
   "execution_count": 9,
   "id": "3f327169",
   "metadata": {},
   "outputs": [
    {
     "data": {
      "text/plain": [
       "'Enter a string'"
      ]
     },
     "execution_count": 9,
     "metadata": {},
     "output_type": "execute_result"
    }
   ],
   "source": [
    "\"Enter a string\""
   ]
  },
  {
   "cell_type": "code",
   "execution_count": 18,
   "id": "62b667d2",
   "metadata": {},
   "outputs": [
    {
     "name": "stdout",
     "output_type": "stream",
     "text": [
      "madam\n"
     ]
    }
   ],
   "source": [
    "str1=input()"
   ]
  },
  {
   "cell_type": "code",
   "execution_count": 19,
   "id": "e633768a",
   "metadata": {},
   "outputs": [],
   "source": [
    "str2=str1[::-1]"
   ]
  },
  {
   "cell_type": "code",
   "execution_count": 20,
   "id": "5e5a9c91",
   "metadata": {},
   "outputs": [
    {
     "data": {
      "text/plain": [
       "'madam'"
      ]
     },
     "execution_count": 20,
     "metadata": {},
     "output_type": "execute_result"
    }
   ],
   "source": [
    "str2"
   ]
  },
  {
   "cell_type": "code",
   "execution_count": 21,
   "id": "062aea2a",
   "metadata": {},
   "outputs": [
    {
     "data": {
      "text/plain": [
       "True"
      ]
     },
     "execution_count": 21,
     "metadata": {},
     "output_type": "execute_result"
    }
   ],
   "source": [
    "str1==str2"
   ]
  },
  {
   "cell_type": "markdown",
   "id": "b3c07e22",
   "metadata": {},
   "source": [
    "###  Convert a string to uppercase.\n"
   ]
  },
  {
   "cell_type": "code",
   "execution_count": 22,
   "id": "1f51afad",
   "metadata": {},
   "outputs": [
    {
     "data": {
      "text/plain": [
       "'Enter a string'"
      ]
     },
     "execution_count": 22,
     "metadata": {},
     "output_type": "execute_result"
    }
   ],
   "source": [
    "\"Enter a string\""
   ]
  },
  {
   "cell_type": "code",
   "execution_count": 23,
   "id": "0e75903a",
   "metadata": {},
   "outputs": [
    {
     "name": "stdout",
     "output_type": "stream",
     "text": [
      "shivam\n"
     ]
    }
   ],
   "source": [
    "str1=input()"
   ]
  },
  {
   "cell_type": "code",
   "execution_count": 24,
   "id": "8ec20cb6",
   "metadata": {},
   "outputs": [
    {
     "data": {
      "text/plain": [
       "'SHIVAM'"
      ]
     },
     "execution_count": 24,
     "metadata": {},
     "output_type": "execute_result"
    }
   ],
   "source": [
    "str1.upper()"
   ]
  },
  {
   "cell_type": "markdown",
   "id": "3bf3e0e6",
   "metadata": {},
   "source": [
    "### Convert a string to lowercase.\n"
   ]
  },
  {
   "cell_type": "code",
   "execution_count": 25,
   "id": "9333811a",
   "metadata": {},
   "outputs": [
    {
     "data": {
      "text/plain": [
       "'Enter a string'"
      ]
     },
     "execution_count": 25,
     "metadata": {},
     "output_type": "execute_result"
    }
   ],
   "source": [
    "\"Enter a string\""
   ]
  },
  {
   "cell_type": "code",
   "execution_count": 26,
   "id": "f59c0e9c",
   "metadata": {},
   "outputs": [
    {
     "name": "stdout",
     "output_type": "stream",
     "text": [
      "SINGH\n"
     ]
    }
   ],
   "source": [
    "str1=input()"
   ]
  },
  {
   "cell_type": "code",
   "execution_count": 27,
   "id": "77c63ce6",
   "metadata": {},
   "outputs": [
    {
     "data": {
      "text/plain": [
       "'singh'"
      ]
     },
     "execution_count": 27,
     "metadata": {},
     "output_type": "execute_result"
    }
   ],
   "source": [
    "str1.lower()"
   ]
  },
  {
   "cell_type": "markdown",
   "id": "16d2c865",
   "metadata": {},
   "source": [
    "### Count the number of vowels in a string."
   ]
  },
  {
   "cell_type": "code",
   "execution_count": 40,
   "id": "ad88f208",
   "metadata": {},
   "outputs": [
    {
     "data": {
      "text/plain": [
       "'Enter a string'"
      ]
     },
     "execution_count": 40,
     "metadata": {},
     "output_type": "execute_result"
    }
   ],
   "source": [
    "\"Enter a string\""
   ]
  },
  {
   "cell_type": "code",
   "execution_count": 41,
   "id": "5b736cbd",
   "metadata": {},
   "outputs": [
    {
     "name": "stdout",
     "output_type": "stream",
     "text": [
      "shivam singh cahaUHAN\n"
     ]
    }
   ],
   "source": [
    "str1=input()"
   ]
  },
  {
   "cell_type": "code",
   "execution_count": 42,
   "id": "0db89c9f",
   "metadata": {},
   "outputs": [],
   "source": [
    "str1=str1.lower()"
   ]
  },
  {
   "cell_type": "code",
   "execution_count": 43,
   "id": "d65a4f91",
   "metadata": {},
   "outputs": [],
   "source": [
    "a1=str1.count('a')\n",
    "a2=str1.count('e')\n",
    "a3=str1.count('i')\n",
    "a4=str1.count('o')\n",
    "a5=str1.count('u')"
   ]
  },
  {
   "cell_type": "code",
   "execution_count": 44,
   "id": "c56cfe61",
   "metadata": {},
   "outputs": [],
   "source": [
    "a=a1+a2+a3+a4+a5"
   ]
  },
  {
   "cell_type": "code",
   "execution_count": 45,
   "id": "7e8b02b4",
   "metadata": {},
   "outputs": [
    {
     "name": "stdout",
     "output_type": "stream",
     "text": [
      "no. of vowels in the string =  7\n"
     ]
    }
   ],
   "source": [
    "print('no. of vowels in the string = ',a)"
   ]
  },
  {
   "cell_type": "markdown",
   "id": "fc701a9a",
   "metadata": {},
   "source": [
    "### Count the number of consonants in a string."
   ]
  },
  {
   "cell_type": "code",
   "execution_count": 46,
   "id": "d02325e1",
   "metadata": {},
   "outputs": [
    {
     "data": {
      "text/plain": [
       "'Enter a string'"
      ]
     },
     "execution_count": 46,
     "metadata": {},
     "output_type": "execute_result"
    }
   ],
   "source": [
    "\"Enter a string\""
   ]
  },
  {
   "cell_type": "code",
   "execution_count": 47,
   "id": "ac250c86",
   "metadata": {},
   "outputs": [
    {
     "name": "stdout",
     "output_type": "stream",
     "text": [
      "SHIvam SINGH\n"
     ]
    }
   ],
   "source": [
    "str1=input()"
   ]
  },
  {
   "cell_type": "code",
   "execution_count": 48,
   "id": "e8e66f67",
   "metadata": {},
   "outputs": [],
   "source": [
    "str1=str1.lower()"
   ]
  },
  {
   "cell_type": "code",
   "execution_count": 49,
   "id": "9bacb63e",
   "metadata": {},
   "outputs": [],
   "source": [
    "st1r=str1.replace('a', '')"
   ]
  },
  {
   "cell_type": "code",
   "execution_count": 50,
   "id": "a24ef29c",
   "metadata": {},
   "outputs": [],
   "source": [
    "str1=str1.replace('e', '')"
   ]
  },
  {
   "cell_type": "code",
   "execution_count": 51,
   "id": "a7346038",
   "metadata": {},
   "outputs": [],
   "source": [
    "str1=str1.replace('i', '')"
   ]
  },
  {
   "cell_type": "code",
   "execution_count": 52,
   "id": "24058086",
   "metadata": {},
   "outputs": [],
   "source": [
    "str1=str1.replace('o', '')"
   ]
  },
  {
   "cell_type": "code",
   "execution_count": 53,
   "id": "21d6a385",
   "metadata": {},
   "outputs": [],
   "source": [
    "str1=str1.replace('u', '')"
   ]
  },
  {
   "cell_type": "code",
   "execution_count": 54,
   "id": "c75c05e9",
   "metadata": {},
   "outputs": [],
   "source": [
    "str1=str1.replace(' ', '')"
   ]
  },
  {
   "cell_type": "code",
   "execution_count": 55,
   "id": "4d6a4f27",
   "metadata": {},
   "outputs": [
    {
     "name": "stdout",
     "output_type": "stream",
     "text": [
      "no of consonants in string :  9\n"
     ]
    }
   ],
   "source": [
    "print(\"no of consonants in string : \",len(str1))"
   ]
  },
  {
   "cell_type": "markdown",
   "id": "c7a5aeb0",
   "metadata": {},
   "source": [
    "### Remove all whitespaces from a string."
   ]
  },
  {
   "cell_type": "code",
   "execution_count": 57,
   "id": "52b41ead",
   "metadata": {},
   "outputs": [
    {
     "data": {
      "text/plain": [
       "'Enter a string'"
      ]
     },
     "execution_count": 57,
     "metadata": {},
     "output_type": "execute_result"
    }
   ],
   "source": [
    "\"Enter a string\""
   ]
  },
  {
   "cell_type": "code",
   "execution_count": 58,
   "id": "3de413bf",
   "metadata": {},
   "outputs": [
    {
     "name": "stdout",
     "output_type": "stream",
     "text": [
      "Shiv am saoihas\n"
     ]
    }
   ],
   "source": [
    "str1=input()"
   ]
  },
  {
   "cell_type": "code",
   "execution_count": 59,
   "id": "5276f817",
   "metadata": {},
   "outputs": [],
   "source": [
    "str1=str1.replace(' ', '')"
   ]
  },
  {
   "cell_type": "code",
   "execution_count": 60,
   "id": "fa88c183",
   "metadata": {},
   "outputs": [
    {
     "data": {
      "text/plain": [
       "'Shivamsaoihas'"
      ]
     },
     "execution_count": 60,
     "metadata": {},
     "output_type": "execute_result"
    }
   ],
   "source": [
    "str1"
   ]
  },
  {
   "cell_type": "markdown",
   "id": "5a17f5a0",
   "metadata": {},
   "source": [
    "### Find the length of a string without using the `len()` function."
   ]
  },
  {
   "cell_type": "code",
   "execution_count": 62,
   "id": "2e5b5681",
   "metadata": {},
   "outputs": [
    {
     "data": {
      "text/plain": [
       "'Enter a string'"
      ]
     },
     "execution_count": 62,
     "metadata": {},
     "output_type": "execute_result"
    }
   ],
   "source": [
    "\"Enter a string\""
   ]
  },
  {
   "cell_type": "code",
   "execution_count": 63,
   "id": "dd254b48",
   "metadata": {},
   "outputs": [
    {
     "name": "stdout",
     "output_type": "stream",
     "text": [
      "shivam singh\n"
     ]
    }
   ],
   "source": [
    "str1=input()"
   ]
  },
  {
   "cell_type": "code",
   "execution_count": 64,
   "id": "3bd0ca8f",
   "metadata": {},
   "outputs": [],
   "source": [
    "last=str1[-1]\n",
    "#here last letter of the entered string stored in the last variable"
   ]
  },
  {
   "cell_type": "code",
   "execution_count": 65,
   "id": "36c06d61",
   "metadata": {},
   "outputs": [
    {
     "data": {
      "text/plain": [
       "'shivam singh'"
      ]
     },
     "execution_count": 65,
     "metadata": {},
     "output_type": "execute_result"
    }
   ],
   "source": [
    "str1"
   ]
  },
  {
   "cell_type": "code",
   "execution_count": 66,
   "id": "ca78a24b",
   "metadata": {},
   "outputs": [],
   "source": [
    "length=str1.rindex(last)\n",
    "#rindex() finds the last occurance of letter or word in the string and we stored the last index in length variable"
   ]
  },
  {
   "cell_type": "code",
   "execution_count": 67,
   "id": "7f71a68a",
   "metadata": {},
   "outputs": [
    {
     "name": "stdout",
     "output_type": "stream",
     "text": [
      "Length of string :  12\n"
     ]
    }
   ],
   "source": [
    "print(\"Length of string : \",length+1)\n",
    "#here we printed the value of (index+1) of the last letter of the enterd string"
   ]
  },
  {
   "cell_type": "markdown",
   "id": "eed7cb3f",
   "metadata": {},
   "source": [
    "### Check if a string contains a specific word."
   ]
  },
  {
   "cell_type": "code",
   "execution_count": 68,
   "id": "34461311",
   "metadata": {},
   "outputs": [
    {
     "data": {
      "text/plain": [
       "'Enter a string'"
      ]
     },
     "execution_count": 68,
     "metadata": {},
     "output_type": "execute_result"
    }
   ],
   "source": [
    "\"Enter a string\""
   ]
  },
  {
   "cell_type": "code",
   "execution_count": 69,
   "id": "8554b5f5",
   "metadata": {},
   "outputs": [
    {
     "name": "stdout",
     "output_type": "stream",
     "text": [
      "my name is shivam\n"
     ]
    }
   ],
   "source": [
    "str1=input()"
   ]
  },
  {
   "cell_type": "code",
   "execution_count": 70,
   "id": "458f1b21",
   "metadata": {},
   "outputs": [
    {
     "data": {
      "text/plain": [
       "'Enter the word you want to search'"
      ]
     },
     "execution_count": 70,
     "metadata": {},
     "output_type": "execute_result"
    }
   ],
   "source": [
    "\"Enter the word you want to search\""
   ]
  },
  {
   "cell_type": "code",
   "execution_count": 71,
   "id": "c9da329c",
   "metadata": {},
   "outputs": [
    {
     "name": "stdout",
     "output_type": "stream",
     "text": [
      "my\n"
     ]
    }
   ],
   "source": [
    "str2=input()"
   ]
  },
  {
   "cell_type": "code",
   "execution_count": 72,
   "id": "cb4646b6",
   "metadata": {},
   "outputs": [],
   "source": [
    "FIND=str1.find(str2)"
   ]
  },
  {
   "cell_type": "code",
   "execution_count": 73,
   "id": "d2847f88",
   "metadata": {},
   "outputs": [
    {
     "name": "stdout",
     "output_type": "stream",
     "text": [
      "NOTE : If the value of FIND is = -1 then substring is not found \n",
      "       And if the value of FIND is anything otherthan -1 then substring is found\n"
     ]
    }
   ],
   "source": [
    "print(\"NOTE : If the value of FIND is = -1 then substring is not found \\n       And if the value of FIND is anything otherthan -1 then substring is found\")"
   ]
  },
  {
   "cell_type": "code",
   "execution_count": 74,
   "id": "7480184e",
   "metadata": {},
   "outputs": [
    {
     "name": "stdout",
     "output_type": "stream",
     "text": [
      "FIND =  0\n"
     ]
    }
   ],
   "source": [
    "print(\"FIND = \",FIND)"
   ]
  },
  {
   "cell_type": "markdown",
   "id": "6c9b182e",
   "metadata": {},
   "source": [
    "### Replace a word in a string with another word."
   ]
  },
  {
   "cell_type": "code",
   "execution_count": 75,
   "id": "d32dfd04",
   "metadata": {},
   "outputs": [
    {
     "data": {
      "text/plain": [
       "'Enter a string'"
      ]
     },
     "execution_count": 75,
     "metadata": {},
     "output_type": "execute_result"
    }
   ],
   "source": [
    "\"Enter a string\""
   ]
  },
  {
   "cell_type": "code",
   "execution_count": 76,
   "id": "d6145e05",
   "metadata": {},
   "outputs": [
    {
     "name": "stdout",
     "output_type": "stream",
     "text": [
      "shivam singh\n"
     ]
    }
   ],
   "source": [
    "str1=input()"
   ]
  },
  {
   "cell_type": "code",
   "execution_count": 77,
   "id": "fde60476",
   "metadata": {},
   "outputs": [
    {
     "data": {
      "text/plain": [
       "'Enter the word you want to Replace '"
      ]
     },
     "execution_count": 77,
     "metadata": {},
     "output_type": "execute_result"
    }
   ],
   "source": [
    "\"Enter the word you want to Replace \""
   ]
  },
  {
   "cell_type": "code",
   "execution_count": 78,
   "id": "35ad61ff",
   "metadata": {},
   "outputs": [
    {
     "name": "stdout",
     "output_type": "stream",
     "text": [
      "shivam\n"
     ]
    }
   ],
   "source": [
    "str2=input()"
   ]
  },
  {
   "cell_type": "code",
   "execution_count": 79,
   "id": "bf20d8ca",
   "metadata": {},
   "outputs": [
    {
     "data": {
      "text/plain": [
       "'Enter the new word '"
      ]
     },
     "execution_count": 79,
     "metadata": {},
     "output_type": "execute_result"
    }
   ],
   "source": [
    "\"Enter the new word \""
   ]
  },
  {
   "cell_type": "code",
   "execution_count": 80,
   "id": "0cd75922",
   "metadata": {},
   "outputs": [
    {
     "name": "stdout",
     "output_type": "stream",
     "text": [
      "rahul\n"
     ]
    }
   ],
   "source": [
    "str3=input()"
   ]
  },
  {
   "cell_type": "code",
   "execution_count": 81,
   "id": "47d31bea",
   "metadata": {},
   "outputs": [
    {
     "data": {
      "text/plain": [
       "'rahul singh'"
      ]
     },
     "execution_count": 81,
     "metadata": {},
     "output_type": "execute_result"
    }
   ],
   "source": [
    "str1.replace(str2,str3)"
   ]
  },
  {
   "cell_type": "markdown",
   "id": "41c12c67",
   "metadata": {},
   "source": [
    "### Count the occurrences of a word in a string.\n"
   ]
  },
  {
   "cell_type": "code",
   "execution_count": 82,
   "id": "fb590059",
   "metadata": {},
   "outputs": [
    {
     "data": {
      "text/plain": [
       "'Enter a string'"
      ]
     },
     "execution_count": 82,
     "metadata": {},
     "output_type": "execute_result"
    }
   ],
   "source": [
    "\"Enter a string\""
   ]
  },
  {
   "cell_type": "code",
   "execution_count": 83,
   "id": "46875be2",
   "metadata": {},
   "outputs": [
    {
     "name": "stdout",
     "output_type": "stream",
     "text": [
      "my name is my shivam my\n"
     ]
    }
   ],
   "source": [
    "str1=input()"
   ]
  },
  {
   "cell_type": "code",
   "execution_count": 84,
   "id": "c191a8d7",
   "metadata": {},
   "outputs": [
    {
     "data": {
      "text/plain": [
       "'Enter the word you want to search'"
      ]
     },
     "execution_count": 84,
     "metadata": {},
     "output_type": "execute_result"
    }
   ],
   "source": [
    "\"Enter the word you want to search\""
   ]
  },
  {
   "cell_type": "code",
   "execution_count": 85,
   "id": "cc5d616b",
   "metadata": {},
   "outputs": [
    {
     "name": "stdout",
     "output_type": "stream",
     "text": [
      "my\n"
     ]
    }
   ],
   "source": [
    "str2=input()"
   ]
  },
  {
   "cell_type": "code",
   "execution_count": 86,
   "id": "5730c9d7",
   "metadata": {},
   "outputs": [
    {
     "name": "stdout",
     "output_type": "stream",
     "text": [
      "Entered word repeated 3 times\n"
     ]
    }
   ],
   "source": [
    "print(\"Entered word repeated\",str1.count('my'),\"times\")"
   ]
  },
  {
   "cell_type": "markdown",
   "id": "93779cc4",
   "metadata": {},
   "source": [
    "### Find the first occurrence of a word in a string."
   ]
  },
  {
   "cell_type": "code",
   "execution_count": 87,
   "id": "a9145d3c",
   "metadata": {},
   "outputs": [
    {
     "data": {
      "text/plain": [
       "'Enter the string'"
      ]
     },
     "execution_count": 87,
     "metadata": {},
     "output_type": "execute_result"
    }
   ],
   "source": [
    "\"Enter the string\""
   ]
  },
  {
   "cell_type": "code",
   "execution_count": 88,
   "id": "fc2d34f6",
   "metadata": {},
   "outputs": [
    {
     "name": "stdout",
     "output_type": "stream",
     "text": [
      "my name is shivam  my \n"
     ]
    }
   ],
   "source": [
    "str1=input()"
   ]
  },
  {
   "cell_type": "code",
   "execution_count": 89,
   "id": "443fb511",
   "metadata": {},
   "outputs": [
    {
     "data": {
      "text/plain": [
       "'Enter the word you want to search'"
      ]
     },
     "execution_count": 89,
     "metadata": {},
     "output_type": "execute_result"
    }
   ],
   "source": [
    "\"Enter the word you want to search\""
   ]
  },
  {
   "cell_type": "code",
   "execution_count": 90,
   "id": "d5f08bc8",
   "metadata": {},
   "outputs": [
    {
     "name": "stdout",
     "output_type": "stream",
     "text": [
      "my\n"
     ]
    }
   ],
   "source": [
    "str2=input()"
   ]
  },
  {
   "cell_type": "code",
   "execution_count": 91,
   "id": "e3a363c8",
   "metadata": {},
   "outputs": [
    {
     "name": "stdout",
     "output_type": "stream",
     "text": [
      "First occurrence of the entered word in the string is at 1 position\n"
     ]
    }
   ],
   "source": [
    "print(\"First occurrence of the entered word in the string is at\",str1.find(str2)+1,\"position\")"
   ]
  },
  {
   "cell_type": "markdown",
   "id": "3014674d",
   "metadata": {},
   "source": [
    "### Find the last occurrence of a word in a string."
   ]
  },
  {
   "cell_type": "code",
   "execution_count": 92,
   "id": "ce817b76",
   "metadata": {},
   "outputs": [
    {
     "data": {
      "text/plain": [
       "'Enter the string'"
      ]
     },
     "execution_count": 92,
     "metadata": {},
     "output_type": "execute_result"
    }
   ],
   "source": [
    "\"Enter the string\""
   ]
  },
  {
   "cell_type": "code",
   "execution_count": 93,
   "id": "fe742c2f",
   "metadata": {},
   "outputs": [
    {
     "name": "stdout",
     "output_type": "stream",
     "text": [
      "my name is shivam my\n"
     ]
    }
   ],
   "source": [
    "str1=input()"
   ]
  },
  {
   "cell_type": "code",
   "execution_count": 94,
   "id": "7361a778",
   "metadata": {},
   "outputs": [
    {
     "data": {
      "text/plain": [
       "'Enter the word you want to search'"
      ]
     },
     "execution_count": 94,
     "metadata": {},
     "output_type": "execute_result"
    }
   ],
   "source": [
    "\"Enter the word you want to search\""
   ]
  },
  {
   "cell_type": "code",
   "execution_count": 95,
   "id": "e326a469",
   "metadata": {},
   "outputs": [
    {
     "name": "stdout",
     "output_type": "stream",
     "text": [
      "my\n"
     ]
    }
   ],
   "source": [
    "str2=input()"
   ]
  },
  {
   "cell_type": "code",
   "execution_count": 96,
   "id": "9eada950",
   "metadata": {},
   "outputs": [
    {
     "name": "stdout",
     "output_type": "stream",
     "text": [
      "Last occurrence of the entered word in the string is at 19 position\n"
     ]
    }
   ],
   "source": [
    "print(\"Last occurrence of the entered word in the string is at\",str1.rfind(str2)+1,\"position\")"
   ]
  },
  {
   "cell_type": "markdown",
   "id": "a8edfd25",
   "metadata": {},
   "source": [
    "### Split a string into a list of words."
   ]
  },
  {
   "cell_type": "code",
   "execution_count": 97,
   "id": "81db0abd",
   "metadata": {},
   "outputs": [
    {
     "data": {
      "text/plain": [
       "'Enter the string'"
      ]
     },
     "execution_count": 97,
     "metadata": {},
     "output_type": "execute_result"
    }
   ],
   "source": [
    "\"Enter the string\""
   ]
  },
  {
   "cell_type": "code",
   "execution_count": 98,
   "id": "470d3821",
   "metadata": {},
   "outputs": [
    {
     "name": "stdout",
     "output_type": "stream",
     "text": [
      "shivam singh\n"
     ]
    }
   ],
   "source": [
    "str1=input()"
   ]
  },
  {
   "cell_type": "code",
   "execution_count": 99,
   "id": "ed79f409",
   "metadata": {},
   "outputs": [
    {
     "data": {
      "text/plain": [
       "['shivam', 'singh']"
      ]
     },
     "execution_count": 99,
     "metadata": {},
     "output_type": "execute_result"
    }
   ],
   "source": [
    "str1.split()"
   ]
  },
  {
   "cell_type": "markdown",
   "id": "a55a602e",
   "metadata": {},
   "source": [
    "### Join a list of words into a string."
   ]
  },
  {
   "cell_type": "code",
   "execution_count": 100,
   "id": "ccd3b415",
   "metadata": {},
   "outputs": [],
   "source": [
    "l1 = ['this', 'is', 'a', 'sentence']"
   ]
  },
  {
   "cell_type": "code",
   "execution_count": 101,
   "id": "6e0ae4fd",
   "metadata": {},
   "outputs": [
    {
     "data": {
      "text/plain": [
       "'this is a sentence'"
      ]
     },
     "execution_count": 101,
     "metadata": {},
     "output_type": "execute_result"
    }
   ],
   "source": [
    "(\" \").join(l1)"
   ]
  },
  {
   "cell_type": "markdown",
   "id": "b1c85d8a",
   "metadata": {},
   "source": [
    "### Convert a string where words are separated by spaces to one where words are separated by underscores"
   ]
  },
  {
   "cell_type": "code",
   "execution_count": 102,
   "id": "44ae3673",
   "metadata": {},
   "outputs": [
    {
     "data": {
      "text/plain": [
       "'Enter a string'"
      ]
     },
     "execution_count": 102,
     "metadata": {},
     "output_type": "execute_result"
    }
   ],
   "source": [
    "\"Enter a string\""
   ]
  },
  {
   "cell_type": "code",
   "execution_count": 103,
   "id": "d86f8824",
   "metadata": {},
   "outputs": [
    {
     "name": "stdout",
     "output_type": "stream",
     "text": [
      "shivam singh\n"
     ]
    }
   ],
   "source": [
    "str1=input()"
   ]
  },
  {
   "cell_type": "code",
   "execution_count": 104,
   "id": "f81efdf0",
   "metadata": {},
   "outputs": [
    {
     "data": {
      "text/plain": [
       "'shivam_singh'"
      ]
     },
     "execution_count": 104,
     "metadata": {},
     "output_type": "execute_result"
    }
   ],
   "source": [
    "str1.replace(\" \",\"_\")"
   ]
  },
  {
   "cell_type": "markdown",
   "id": "65283daf",
   "metadata": {},
   "source": [
    "### Check if a string starts with a specific word or phrase.\n"
   ]
  },
  {
   "cell_type": "code",
   "execution_count": 105,
   "id": "2ffa93f6",
   "metadata": {},
   "outputs": [
    {
     "data": {
      "text/plain": [
       "'Enter the string'"
      ]
     },
     "execution_count": 105,
     "metadata": {},
     "output_type": "execute_result"
    }
   ],
   "source": [
    "\"Enter the string\""
   ]
  },
  {
   "cell_type": "code",
   "execution_count": 106,
   "id": "0b60c29a",
   "metadata": {
    "scrolled": true
   },
   "outputs": [
    {
     "name": "stdout",
     "output_type": "stream",
     "text": [
      "my name\n"
     ]
    }
   ],
   "source": [
    "str1=input()"
   ]
  },
  {
   "cell_type": "code",
   "execution_count": 107,
   "id": "2dfabb96",
   "metadata": {},
   "outputs": [
    {
     "data": {
      "text/plain": [
       "'Enter the word you want to search'"
      ]
     },
     "execution_count": 107,
     "metadata": {},
     "output_type": "execute_result"
    }
   ],
   "source": [
    "\"Enter the word you want to search\""
   ]
  },
  {
   "cell_type": "code",
   "execution_count": 108,
   "id": "8cff6986",
   "metadata": {},
   "outputs": [
    {
     "name": "stdout",
     "output_type": "stream",
     "text": [
      "my\n"
     ]
    }
   ],
   "source": [
    "str2=input()"
   ]
  },
  {
   "cell_type": "code",
   "execution_count": 109,
   "id": "6ab47f2b",
   "metadata": {},
   "outputs": [],
   "source": [
    "length=len(str2)\n",
    "#here we find the length of entered search string"
   ]
  },
  {
   "cell_type": "code",
   "execution_count": 110,
   "id": "f9eecaa2",
   "metadata": {},
   "outputs": [
    {
     "data": {
      "text/plain": [
       "True"
      ]
     },
     "execution_count": 110,
     "metadata": {},
     "output_type": "execute_result"
    }
   ],
   "source": [
    "str2==str1[0:length]\n",
    "#here we compare the entered word with the old string by the help to length variable as a index no"
   ]
  },
  {
   "cell_type": "markdown",
   "id": "3a8f2d6d",
   "metadata": {},
   "source": [
    "### Check if a string ends with a specific word or phrase."
   ]
  },
  {
   "cell_type": "code",
   "execution_count": 111,
   "id": "e328245b",
   "metadata": {},
   "outputs": [
    {
     "data": {
      "text/plain": [
       "'Enter the string'"
      ]
     },
     "execution_count": 111,
     "metadata": {},
     "output_type": "execute_result"
    }
   ],
   "source": [
    "\"Enter the string\""
   ]
  },
  {
   "cell_type": "code",
   "execution_count": 112,
   "id": "638e6889",
   "metadata": {},
   "outputs": [
    {
     "name": "stdout",
     "output_type": "stream",
     "text": [
      "shivam singh\n"
     ]
    }
   ],
   "source": [
    "str1=input()"
   ]
  },
  {
   "cell_type": "code",
   "execution_count": 113,
   "id": "4b3de1df",
   "metadata": {},
   "outputs": [
    {
     "data": {
      "text/plain": [
       "'Enter the word you want to search'"
      ]
     },
     "execution_count": 113,
     "metadata": {},
     "output_type": "execute_result"
    }
   ],
   "source": [
    "\"Enter the word you want to search\""
   ]
  },
  {
   "cell_type": "code",
   "execution_count": 114,
   "id": "db1b4daf",
   "metadata": {},
   "outputs": [
    {
     "name": "stdout",
     "output_type": "stream",
     "text": [
      "singh\n"
     ]
    }
   ],
   "source": [
    "str2=input()"
   ]
  },
  {
   "cell_type": "code",
   "execution_count": 115,
   "id": "a3712962",
   "metadata": {},
   "outputs": [],
   "source": [
    "length=str1.rindex(\" \")"
   ]
  },
  {
   "cell_type": "code",
   "execution_count": 116,
   "id": "c9c0cbab",
   "metadata": {},
   "outputs": [
    {
     "data": {
      "text/plain": [
       "True"
      ]
     },
     "execution_count": 116,
     "metadata": {},
     "output_type": "execute_result"
    }
   ],
   "source": [
    "str2==str1[length+1:]"
   ]
  },
  {
   "cell_type": "markdown",
   "id": "ab636fdd",
   "metadata": {},
   "source": [
    "### Convert a string to title case (e.g., \"hello world\" to \"Hello World\")."
   ]
  },
  {
   "cell_type": "code",
   "execution_count": 117,
   "id": "926e40c9",
   "metadata": {},
   "outputs": [
    {
     "data": {
      "text/plain": [
       "'Enter a string'"
      ]
     },
     "execution_count": 117,
     "metadata": {},
     "output_type": "execute_result"
    }
   ],
   "source": [
    "\"Enter a string\""
   ]
  },
  {
   "cell_type": "code",
   "execution_count": 118,
   "id": "5fbf865e",
   "metadata": {},
   "outputs": [
    {
     "name": "stdout",
     "output_type": "stream",
     "text": [
      "hello world\n"
     ]
    }
   ],
   "source": [
    "str1=input()"
   ]
  },
  {
   "cell_type": "code",
   "execution_count": 119,
   "id": "c7dfde82",
   "metadata": {},
   "outputs": [
    {
     "data": {
      "text/plain": [
       "'Hello World'"
      ]
     },
     "execution_count": 119,
     "metadata": {},
     "output_type": "execute_result"
    }
   ],
   "source": [
    "str1.title()"
   ]
  },
  {
   "cell_type": "markdown",
   "id": "5da17c27",
   "metadata": {},
   "source": [
    "### Find the longest word in a string."
   ]
  },
  {
   "cell_type": "code",
   "execution_count": 120,
   "id": "5a545dea",
   "metadata": {},
   "outputs": [
    {
     "data": {
      "text/plain": [
       "'Enter a string'"
      ]
     },
     "execution_count": 120,
     "metadata": {},
     "output_type": "execute_result"
    }
   ],
   "source": [
    "\"Enter a string\""
   ]
  },
  {
   "cell_type": "code",
   "execution_count": 121,
   "id": "a7c43abc",
   "metadata": {},
   "outputs": [
    {
     "name": "stdout",
     "output_type": "stream",
     "text": [
      "shivam singh\n"
     ]
    }
   ],
   "source": [
    "str1=input()"
   ]
  },
  {
   "cell_type": "code",
   "execution_count": 122,
   "id": "8a9bc79f",
   "metadata": {},
   "outputs": [],
   "source": [
    "l1=str1.split()"
   ]
  },
  {
   "cell_type": "code",
   "execution_count": 123,
   "id": "2895154a",
   "metadata": {},
   "outputs": [
    {
     "data": {
      "text/plain": [
       "'shivam'"
      ]
     },
     "execution_count": 123,
     "metadata": {},
     "output_type": "execute_result"
    }
   ],
   "source": [
    "max(l1,key=len)"
   ]
  },
  {
   "cell_type": "markdown",
   "id": "e9a8f80d",
   "metadata": {},
   "source": [
    "### Find the shortest word in a string.\n"
   ]
  },
  {
   "cell_type": "code",
   "execution_count": 124,
   "id": "2407b12f",
   "metadata": {},
   "outputs": [
    {
     "data": {
      "text/plain": [
       "'Enter a string'"
      ]
     },
     "execution_count": 124,
     "metadata": {},
     "output_type": "execute_result"
    }
   ],
   "source": [
    "\"Enter a string\""
   ]
  },
  {
   "cell_type": "code",
   "execution_count": 125,
   "id": "ff060ded",
   "metadata": {},
   "outputs": [
    {
     "name": "stdout",
     "output_type": "stream",
     "text": [
      "shivam singh\n"
     ]
    }
   ],
   "source": [
    "str1=input()"
   ]
  },
  {
   "cell_type": "code",
   "execution_count": 126,
   "id": "18f31ab5",
   "metadata": {},
   "outputs": [],
   "source": [
    "l1=str1.split()"
   ]
  },
  {
   "cell_type": "code",
   "execution_count": 127,
   "id": "882035fc",
   "metadata": {},
   "outputs": [
    {
     "data": {
      "text/plain": [
       "'singh'"
      ]
     },
     "execution_count": 127,
     "metadata": {},
     "output_type": "execute_result"
    }
   ],
   "source": [
    "min(l1,key=len)"
   ]
  },
  {
   "cell_type": "markdown",
   "id": "817cd10b",
   "metadata": {},
   "source": [
    "### Reverse the order of words in a string.\n"
   ]
  },
  {
   "cell_type": "code",
   "execution_count": 128,
   "id": "c7cacdfd",
   "metadata": {},
   "outputs": [
    {
     "data": {
      "text/plain": [
       "'Enter a string'"
      ]
     },
     "execution_count": 128,
     "metadata": {},
     "output_type": "execute_result"
    }
   ],
   "source": [
    "\"Enter a string\""
   ]
  },
  {
   "cell_type": "code",
   "execution_count": 129,
   "id": "87aef6f5",
   "metadata": {
    "scrolled": true
   },
   "outputs": [
    {
     "name": "stdout",
     "output_type": "stream",
     "text": [
      "shivam singh\n"
     ]
    }
   ],
   "source": [
    "str1=input()"
   ]
  },
  {
   "cell_type": "code",
   "execution_count": 130,
   "id": "3714716f",
   "metadata": {},
   "outputs": [],
   "source": [
    "l1=str1.split()"
   ]
  },
  {
   "cell_type": "code",
   "execution_count": 131,
   "id": "6fa39d77",
   "metadata": {},
   "outputs": [
    {
     "data": {
      "text/plain": [
       "['shivam', 'singh']"
      ]
     },
     "execution_count": 131,
     "metadata": {},
     "output_type": "execute_result"
    }
   ],
   "source": [
    "l1"
   ]
  },
  {
   "cell_type": "code",
   "execution_count": 132,
   "id": "13c5e4e2",
   "metadata": {},
   "outputs": [],
   "source": [
    "l1.reverse()"
   ]
  },
  {
   "cell_type": "code",
   "execution_count": 133,
   "id": "9444b477",
   "metadata": {},
   "outputs": [
    {
     "name": "stdout",
     "output_type": "stream",
     "text": [
      "['singh', 'shivam']\n"
     ]
    }
   ],
   "source": [
    "print(l1)"
   ]
  },
  {
   "cell_type": "markdown",
   "id": "427c7574",
   "metadata": {},
   "source": [
    "### Check if a string is alphanumeric.\n"
   ]
  },
  {
   "cell_type": "code",
   "execution_count": 134,
   "id": "5c42f25d",
   "metadata": {},
   "outputs": [
    {
     "data": {
      "text/plain": [
       "'Enter a string'"
      ]
     },
     "execution_count": 134,
     "metadata": {},
     "output_type": "execute_result"
    }
   ],
   "source": [
    "\"Enter a string\""
   ]
  },
  {
   "cell_type": "code",
   "execution_count": 135,
   "id": "3f2471d9",
   "metadata": {},
   "outputs": [
    {
     "name": "stdout",
     "output_type": "stream",
     "text": [
      "shivam\n"
     ]
    }
   ],
   "source": [
    "str1=input()"
   ]
  },
  {
   "cell_type": "code",
   "execution_count": 136,
   "id": "164d67b5",
   "metadata": {},
   "outputs": [
    {
     "data": {
      "text/plain": [
       "True"
      ]
     },
     "execution_count": 136,
     "metadata": {},
     "output_type": "execute_result"
    }
   ],
   "source": [
    "str1.isalnum()"
   ]
  },
  {
   "cell_type": "markdown",
   "id": "06eeda0f",
   "metadata": {},
   "source": [
    "### Extract all digits from a string."
   ]
  },
  {
   "cell_type": "code",
   "execution_count": 12,
   "id": "947be44b",
   "metadata": {},
   "outputs": [
    {
     "name": "stdout",
     "output_type": "stream",
     "text": [
      "2 3 1 "
     ]
    }
   ],
   "source": [
    "str12=\"shiv231sasa\"\n",
    "for i in str12:\n",
    "        if i.isdigit():\n",
    "            print(i,end=\" \")"
   ]
  },
  {
   "cell_type": "markdown",
   "id": "7d35e1f5",
   "metadata": {},
   "source": [
    "### Extract all alphabets from a string."
   ]
  },
  {
   "cell_type": "code",
   "execution_count": 11,
   "id": "6bc28800",
   "metadata": {},
   "outputs": [
    {
     "name": "stdout",
     "output_type": "stream",
     "text": [
      "s h i v s a s a "
     ]
    }
   ],
   "source": [
    "str12=\"shiv231sasa\"\n",
    "for i in str12:\n",
    "        if i.isalpha():\n",
    "            print(i,end=\" \")"
   ]
  },
  {
   "cell_type": "markdown",
   "id": "7ecbfe53",
   "metadata": {},
   "source": [
    "### Check if a string is a valid email address."
   ]
  },
  {
   "cell_type": "code",
   "execution_count": 36,
   "id": "2f9ec05b",
   "metadata": {},
   "outputs": [
    {
     "name": "stdout",
     "output_type": "stream",
     "text": [
      "Enter a email id : shivam12@gmail.com\n",
      "Email is right\n"
     ]
    }
   ],
   "source": [
    "email_1=input(\"Enter a email id : \")\n",
    "if \"@\" and \".\" in email_1:\n",
    "    print(\"Email is right\")\n",
    "else:\n",
    "    print(\"email is wrong\")"
   ]
  },
  {
   "cell_type": "markdown",
   "id": "0b135df0",
   "metadata": {},
   "source": [
    "### Replace multiple spaces in a string with a single space"
   ]
  },
  {
   "cell_type": "code",
   "execution_count": 44,
   "id": "55274faf",
   "metadata": {},
   "outputs": [
    {
     "data": {
      "text/plain": [
       "'hello there'"
      ]
     },
     "execution_count": 44,
     "metadata": {},
     "output_type": "execute_result"
    }
   ],
   "source": [
    "mytext = \" hello     there   \"\n",
    "' '.join(mytext.split())"
   ]
  },
  {
   "cell_type": "markdown",
   "id": "97a7307f",
   "metadata": {},
   "source": [
    "### Find the frequency of each character in a string."
   ]
  },
  {
   "cell_type": "code",
   "execution_count": 45,
   "id": "f3546c11",
   "metadata": {},
   "outputs": [
    {
     "name": "stdout",
     "output_type": "stream",
     "text": [
      "Enter a string : shivam singh chauhan\n",
      "{'s': 2, 'h': 4, 'i': 2, 'v': 1, 'a': 3, 'm': 1, ' ': 2, 'n': 2, 'g': 1, 'c': 1, 'u': 1}\n"
     ]
    }
   ],
   "source": [
    "test_str = input(\"Enter a string : \").lower()\n",
    "dicx = {} \n",
    "  \n",
    "for i in test_str: \n",
    "    if i in dicx: \n",
    "        dicx[i] += 1\n",
    "    else: \n",
    "        dicx[i] = 1\n",
    "\n",
    "print(dicx)"
   ]
  },
  {
   "cell_type": "markdown",
   "id": "2e48b924",
   "metadata": {},
   "source": [
    "###  Check if two strings are anagrams."
   ]
  },
  {
   "cell_type": "code",
   "execution_count": 50,
   "id": "f1a759d5",
   "metadata": {},
   "outputs": [
    {
     "name": "stdout",
     "output_type": "stream",
     "text": [
      "yes they are anagrams\n"
     ]
    }
   ],
   "source": [
    "str13=\"satin\"\n",
    "str14=\"stain\"\n",
    "flag=0\n",
    "if len(str13)==len(str14):\n",
    "    for i in str13:\n",
    "        if i in str14:\n",
    "            flag+=1\n",
    "        else:\n",
    "            break\n",
    "if flag==len(str13):\n",
    "    print(\"yes they are anagrams\")\n",
    "else:\n",
    "    print(\"no they are not anagrams\")"
   ]
  },
  {
   "cell_type": "markdown",
   "id": "0da30be3",
   "metadata": {},
   "source": [
    "### Encode a string using a Caesar cipher"
   ]
  },
  {
   "cell_type": "code",
   "execution_count": 65,
   "id": "28f78613",
   "metadata": {},
   "outputs": [
    {
     "name": "stdout",
     "output_type": "stream",
     "text": [
      "zop}ht'zpuno"
     ]
    }
   ],
   "source": [
    "str15=\"shivam singh\"\n",
    "\n",
    "for i in str15:\n",
    "    j=ord(i) + 7\n",
    "    print(chr(j),end=\"\")"
   ]
  },
  {
   "cell_type": "markdown",
   "id": "3183edf6",
   "metadata": {},
   "source": [
    "### Decode a Caesar cipher encoded string"
   ]
  },
  {
   "cell_type": "code",
   "execution_count": 66,
   "id": "b921dbfa",
   "metadata": {},
   "outputs": [
    {
     "name": "stdout",
     "output_type": "stream",
     "text": [
      "shivam singh"
     ]
    }
   ],
   "source": [
    "str16=\"zop}ht'zpuno\"\n",
    "\n",
    "for i in str16:\n",
    "    j=ord(i) - 7\n",
    "    print(chr(j),end=\"\")"
   ]
  },
  {
   "cell_type": "markdown",
   "id": "0cc31d69",
   "metadata": {},
   "source": [
    "# Topic: List Based Practice Problem :"
   ]
  },
  {
   "cell_type": "markdown",
   "id": "bdc682e5",
   "metadata": {},
   "source": [
    "### Create a list with integers from 1 to 10."
   ]
  },
  {
   "cell_type": "code",
   "execution_count": 137,
   "id": "6f7102ee",
   "metadata": {
    "scrolled": true
   },
   "outputs": [],
   "source": [
    "l1=[1,2,3,4,5,6,7,8,9,10]"
   ]
  },
  {
   "cell_type": "code",
   "execution_count": 138,
   "id": "cb71fdce",
   "metadata": {
    "scrolled": false
   },
   "outputs": [
    {
     "data": {
      "text/plain": [
       "[1, 2, 3, 4, 5, 6, 7, 8, 9, 10]"
      ]
     },
     "execution_count": 138,
     "metadata": {},
     "output_type": "execute_result"
    }
   ],
   "source": [
    "l1"
   ]
  },
  {
   "cell_type": "markdown",
   "id": "b70c6b84",
   "metadata": {},
   "source": [
    "### Append an element to the end of a list.\n"
   ]
  },
  {
   "cell_type": "code",
   "execution_count": 139,
   "id": "41654c89",
   "metadata": {},
   "outputs": [],
   "source": [
    "l1=[1,2,3,4,5,6,7,8,9,10,32,4,'shivam',1,2,3]"
   ]
  },
  {
   "cell_type": "code",
   "execution_count": 140,
   "id": "ab2a0da2",
   "metadata": {},
   "outputs": [],
   "source": [
    "l1.append(\"RAHUL\")"
   ]
  },
  {
   "cell_type": "code",
   "execution_count": 141,
   "id": "84203438",
   "metadata": {},
   "outputs": [
    {
     "data": {
      "text/plain": [
       "[1, 2, 3, 4, 5, 6, 7, 8, 9, 10, 32, 4, 'shivam', 1, 2, 3, 'RAHUL']"
      ]
     },
     "execution_count": 141,
     "metadata": {},
     "output_type": "execute_result"
    }
   ],
   "source": [
    "l1"
   ]
  },
  {
   "cell_type": "markdown",
   "id": "a27ae9b2",
   "metadata": {},
   "source": [
    "### Insert an element at a specific index in a list."
   ]
  },
  {
   "cell_type": "code",
   "execution_count": 142,
   "id": "66ecd130",
   "metadata": {},
   "outputs": [],
   "source": [
    "l1=[1,2,3,4,5,6,7,8,9,10,32,4,'shivam',1,2,3]"
   ]
  },
  {
   "cell_type": "code",
   "execution_count": 143,
   "id": "0172d609",
   "metadata": {},
   "outputs": [],
   "source": [
    "l1.insert(6,\"Rahul\")"
   ]
  },
  {
   "cell_type": "code",
   "execution_count": 144,
   "id": "5e764f57",
   "metadata": {},
   "outputs": [
    {
     "data": {
      "text/plain": [
       "[1, 2, 3, 4, 5, 6, 'Rahul', 7, 8, 9, 10, 32, 4, 'shivam', 1, 2, 3]"
      ]
     },
     "execution_count": 144,
     "metadata": {},
     "output_type": "execute_result"
    }
   ],
   "source": [
    "l1"
   ]
  },
  {
   "cell_type": "markdown",
   "id": "21b14023",
   "metadata": {},
   "source": [
    "### Remove an element from a list by its value."
   ]
  },
  {
   "cell_type": "code",
   "execution_count": 145,
   "id": "6d630bc4",
   "metadata": {},
   "outputs": [],
   "source": [
    "l1=[1,2,3,4,5,6,7,8,9,10,32,4,'shivam',1,2,3]"
   ]
  },
  {
   "cell_type": "code",
   "execution_count": 146,
   "id": "bb617d03",
   "metadata": {},
   "outputs": [],
   "source": [
    "l1.remove(\"shivam\")"
   ]
  },
  {
   "cell_type": "code",
   "execution_count": 147,
   "id": "c83c54df",
   "metadata": {},
   "outputs": [
    {
     "data": {
      "text/plain": [
       "[1, 2, 3, 4, 5, 6, 7, 8, 9, 10, 32, 4, 1, 2, 3]"
      ]
     },
     "execution_count": 147,
     "metadata": {},
     "output_type": "execute_result"
    }
   ],
   "source": [
    "l1"
   ]
  },
  {
   "cell_type": "markdown",
   "id": "30294901",
   "metadata": {},
   "source": [
    "### Remove an element from a list by its index."
   ]
  },
  {
   "cell_type": "code",
   "execution_count": 148,
   "id": "b86170ea",
   "metadata": {},
   "outputs": [],
   "source": [
    "l1=[1,2,3,4,5,6,7,8,9,10,32,4,'shivam',1,2,3]"
   ]
  },
  {
   "cell_type": "code",
   "execution_count": 149,
   "id": "4946f88f",
   "metadata": {},
   "outputs": [],
   "source": [
    "del l1[4]"
   ]
  },
  {
   "cell_type": "code",
   "execution_count": 150,
   "id": "f32bef8e",
   "metadata": {},
   "outputs": [
    {
     "data": {
      "text/plain": [
       "[1, 2, 3, 4, 6, 7, 8, 9, 10, 32, 4, 'shivam', 1, 2, 3]"
      ]
     },
     "execution_count": 150,
     "metadata": {},
     "output_type": "execute_result"
    }
   ],
   "source": [
    "l1"
   ]
  },
  {
   "cell_type": "markdown",
   "id": "33792909",
   "metadata": {},
   "source": [
    "### Check if an element exists in a list.\n"
   ]
  },
  {
   "cell_type": "code",
   "execution_count": 67,
   "id": "45cb45a9",
   "metadata": {},
   "outputs": [
    {
     "name": "stdout",
     "output_type": "stream",
     "text": [
      "Enter the element you want to search shivam\n",
      "Yes\n"
     ]
    }
   ],
   "source": [
    "l1=[1,2,3,4,5,6,7,8,9,10,32,4,'shivam',1,2,3]\n",
    "s1=input(\"Enter the element you want to search \")\n",
    "if s1 in l1:\n",
    "    print(\"Yes\")\n",
    "else:\n",
    "    print(\"no\")"
   ]
  },
  {
   "cell_type": "markdown",
   "id": "c18f9fbc",
   "metadata": {},
   "source": [
    "### Create a list of random numbers."
   ]
  },
  {
   "cell_type": "code",
   "execution_count": 69,
   "id": "9f1c5ab8",
   "metadata": {},
   "outputs": [
    {
     "name": "stdout",
     "output_type": "stream",
     "text": [
      "[87, 53, 21, 15, 17, 27, 84, 79, 69, 76]\n"
     ]
    }
   ],
   "source": [
    "import random\n",
    " \n",
    "rand_list=[]\n",
    "n=10\n",
    "for i in range(n):\n",
    "    rand_list.append(random.randint(1,100))\n",
    "print(rand_list)"
   ]
  },
  {
   "cell_type": "markdown",
   "id": "0c0a02a2",
   "metadata": {},
   "source": [
    "### Flatten a nested list."
   ]
  },
  {
   "cell_type": "code",
   "execution_count": 71,
   "id": "e347f780",
   "metadata": {},
   "outputs": [
    {
     "name": "stdout",
     "output_type": "stream",
     "text": [
      "[1, 2, 3, 4, 5, 6, 7]\n"
     ]
    }
   ],
   "source": [
    "my_list1 = [[1], [2, 3], [4, 5, 6, 7]]\n",
    "\n",
    "flat_list = [num for sublist in my_list1 for num in sublist]\n",
    "print(flat_list)"
   ]
  },
  {
   "cell_type": "code",
   "execution_count": 78,
   "id": "48f6812b",
   "metadata": {},
   "outputs": [
    {
     "name": "stdout",
     "output_type": "stream",
     "text": [
      "{1: 0, 2: 1, 3: 2, 4: 3, 5: 4, 6: 5, 7: 6, 8: 7, 9: 8, 10: 9}\n"
     ]
    }
   ],
   "source": [
    "l12=[1,2,3,4,5,6,7,8,9,10]\n",
    "dict12 = {}\n",
    "for i in l12:\n",
    "        dict12[i] = l12.index(i)\n",
    "print (dict12)"
   ]
  },
  {
   "cell_type": "markdown",
   "id": "53d16d6e",
   "metadata": {},
   "source": [
    "### Shuffle the elements of a list randomly."
   ]
  },
  {
   "cell_type": "code",
   "execution_count": 79,
   "id": "82c7f671",
   "metadata": {},
   "outputs": [
    {
     "name": "stdout",
     "output_type": "stream",
     "text": [
      "[1, 5, 3, 8, 2, 6, 9, 10, 4, 7]\n"
     ]
    }
   ],
   "source": [
    "l13=[1,2,3,4,5,6,7,8,9,10]\n",
    "random.shuffle(l13)\n",
    "print(l13)"
   ]
  },
  {
   "cell_type": "markdown",
   "id": "fdc75f23",
   "metadata": {},
   "source": [
    "# Tuple Based Practice Problem :"
   ]
  },
  {
   "cell_type": "markdown",
   "id": "17b9c8df",
   "metadata": {},
   "source": [
    "### Unpack the elements of a tuple into variables."
   ]
  },
  {
   "cell_type": "code",
   "execution_count": 80,
   "id": "948ff48d",
   "metadata": {},
   "outputs": [
    {
     "name": "stdout",
     "output_type": "stream",
     "text": [
      "apple\n",
      "banana\n",
      "cherry\n"
     ]
    }
   ],
   "source": [
    "fruits = (\"apple\", \"banana\", \"cherry\")\n",
    "\n",
    "(green, yellow, red) = fruits\n",
    "\n",
    "print(green)\n",
    "print(yellow)\n",
    "print(red)"
   ]
  },
  {
   "cell_type": "markdown",
   "id": "cd0aeace",
   "metadata": {},
   "source": [
    "### Concatenate two tuples."
   ]
  },
  {
   "cell_type": "code",
   "execution_count": 83,
   "id": "6cc26703",
   "metadata": {},
   "outputs": [
    {
     "name": "stdout",
     "output_type": "stream",
     "text": [
      "('apple', 'banana', 'cherry', 'shivam', 'singh')\n"
     ]
    }
   ],
   "source": [
    "fruits = (\"apple\", \"banana\", \"cherry\")\n",
    "name_1 = (\"shivam\",\"singh\")\n",
    "conc1=fruits+name_1\n",
    "print(conc1)"
   ]
  },
  {
   "cell_type": "markdown",
   "id": "7c1db919",
   "metadata": {},
   "source": [
    "### Check if a tuple is empty."
   ]
  },
  {
   "cell_type": "code",
   "execution_count": 86,
   "id": "ea27e1c1",
   "metadata": {},
   "outputs": [
    {
     "name": "stdout",
     "output_type": "stream",
     "text": [
      "tuple is empty\n"
     ]
    }
   ],
   "source": [
    "emp=()\n",
    "if len(emp)==0:\n",
    "    print(\"tuple is empty\")"
   ]
  },
  {
   "cell_type": "markdown",
   "id": "0b23767d",
   "metadata": {},
   "source": [
    "### Create a tuple with a single element."
   ]
  },
  {
   "cell_type": "code",
   "execution_count": 93,
   "id": "511771ef",
   "metadata": {},
   "outputs": [
    {
     "name": "stdout",
     "output_type": "stream",
     "text": [
      "('a',)\n"
     ]
    }
   ],
   "source": [
    "ele_1= tuple('a')\n",
    "print(ele_1)"
   ]
  },
  {
   "cell_type": "markdown",
   "id": "118b6645",
   "metadata": {},
   "source": [
    "### Slice a tuple."
   ]
  },
  {
   "cell_type": "code",
   "execution_count": 100,
   "id": "e8704449",
   "metadata": {},
   "outputs": [
    {
     "data": {
      "text/plain": [
       "('apple', 'banana')"
      ]
     },
     "execution_count": 100,
     "metadata": {},
     "output_type": "execute_result"
    }
   ],
   "source": [
    "fruits = (\"apple\", \"banana\", \"cherry\")\n",
    "fruits[0:2]"
   ]
  },
  {
   "cell_type": "markdown",
   "id": "3309e7fe",
   "metadata": {},
   "source": [
    "### Find the maximum value in a tuple."
   ]
  },
  {
   "cell_type": "code",
   "execution_count": 101,
   "id": "bb371018",
   "metadata": {},
   "outputs": [],
   "source": [
    "max_1=(1,22,3,55,32,33)"
   ]
  },
  {
   "cell_type": "code",
   "execution_count": 103,
   "id": "69c0223d",
   "metadata": {},
   "outputs": [
    {
     "data": {
      "text/plain": [
       "55"
      ]
     },
     "execution_count": 103,
     "metadata": {},
     "output_type": "execute_result"
    }
   ],
   "source": [
    "max(max_1)"
   ]
  },
  {
   "cell_type": "markdown",
   "id": "7c71a628",
   "metadata": {},
   "source": [
    "### Convert a tuple of strings to a tuple of integers."
   ]
  },
  {
   "cell_type": "code",
   "execution_count": 111,
   "id": "f8d902b8",
   "metadata": {},
   "outputs": [
    {
     "data": {
      "text/plain": [
       "(2, 3)"
      ]
     },
     "execution_count": 111,
     "metadata": {},
     "output_type": "execute_result"
    }
   ],
   "source": [
    "myinput = (\"2\",\"3\")\n",
    "mytuple = tuple(int(x[0]) for x in myinput)\n",
    "mytuple"
   ]
  },
  {
   "cell_type": "markdown",
   "id": "bcf65d85",
   "metadata": {},
   "source": [
    "### Create a tuple of random numbers."
   ]
  },
  {
   "cell_type": "code",
   "execution_count": 114,
   "id": "1b970fe4",
   "metadata": {},
   "outputs": [
    {
     "name": "stdout",
     "output_type": "stream",
     "text": [
      "(13, 100, 83, 60, 89, 12, 62, 49, 8, 50)\n"
     ]
    }
   ],
   "source": [
    "rand_tuple=[]\n",
    "n=10\n",
    "for i in range(n):\n",
    "    rand_tuple.append(random.randint(1,100))\n",
    "print(tuple(rand_tuple))"
   ]
  },
  {
   "cell_type": "code",
   "execution_count": 115,
   "id": "3c2f6276",
   "metadata": {},
   "outputs": [],
   "source": []
  },
  {
   "cell_type": "code",
   "execution_count": null,
   "id": "ecf5efac",
   "metadata": {},
   "outputs": [],
   "source": []
  }
 ],
 "metadata": {
  "kernelspec": {
   "display_name": "Python 3 (ipykernel)",
   "language": "python",
   "name": "python3"
  },
  "language_info": {
   "codemirror_mode": {
    "name": "ipython",
    "version": 3
   },
   "file_extension": ".py",
   "mimetype": "text/x-python",
   "name": "python",
   "nbconvert_exporter": "python",
   "pygments_lexer": "ipython3",
   "version": "3.9.13"
  },
  "widgets": {
   "application/vnd.jupyter.widget-state+json": {
    "state": {},
    "version_major": 2,
    "version_minor": 0
   }
  }
 },
 "nbformat": 4,
 "nbformat_minor": 5
}
