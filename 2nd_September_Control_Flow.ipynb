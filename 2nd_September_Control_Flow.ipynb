{
 "cells": [
  {
   "cell_type": "markdown",
   "id": "98a2020c",
   "metadata": {},
   "source": [
    "# Basic If-Else Statements:"
   ]
  },
  {
   "cell_type": "markdown",
   "id": "c516a1f0",
   "metadata": {},
   "source": [
    "### Write a Python program to check if a given number is positive or negative."
   ]
  },
  {
   "cell_type": "code",
   "execution_count": 3,
   "id": "bb4b1c5d",
   "metadata": {},
   "outputs": [
    {
     "name": "stdout",
     "output_type": "stream",
     "text": [
      "Enter a number : -23\n",
      "Entered no. is negative\n"
     ]
    }
   ],
   "source": [
    "num1=int(input(\"Enter a number : \"))\n",
    "if num1<0:\n",
    "    print(\"Entered no. is negative\")\n",
    "else:\n",
    "    print(\"Entered no. is positive\")"
   ]
  },
  {
   "cell_type": "markdown",
   "id": "68454597",
   "metadata": {},
   "source": [
    "### Create a program that determines if a person is eligible to vote based on their age."
   ]
  },
  {
   "cell_type": "code",
   "execution_count": 6,
   "id": "aad6b0a7",
   "metadata": {},
   "outputs": [
    {
     "name": "stdout",
     "output_type": "stream",
     "text": [
      "Enter your age : 16\n",
      "You cannot vote\n"
     ]
    }
   ],
   "source": [
    "age=int(input(\"Enter your age : \"))\n",
    "if age>=18:\n",
    "    print(\"You can vote\")\n",
    "else:\n",
    "    print(\"You cannot vote\")"
   ]
  },
  {
   "cell_type": "markdown",
   "id": "cc19d911",
   "metadata": {},
   "source": [
    "### Develop a program to find the maximum of two numbers using if-else statements."
   ]
  },
  {
   "cell_type": "code",
   "execution_count": 10,
   "id": "496ea9fd",
   "metadata": {},
   "outputs": [
    {
     "name": "stdout",
     "output_type": "stream",
     "text": [
      "Enter the first no. : 26\n",
      "Enter the second no. : 13\n",
      "The greatest no. is :  26\n"
     ]
    }
   ],
   "source": [
    "num2=int(input(\"Enter the first no. : \"))\n",
    "num3=int(input(\"Enter the second no. : \"))\n",
    "if num2>=num3:\n",
    "    print(\"The greatest no. is : \",num2)\n",
    "else:\n",
    "    print(\"The greatest no. is : \",num3)"
   ]
  },
  {
   "cell_type": "markdown",
   "id": "201bbd7a",
   "metadata": {},
   "source": [
    "### Write a Python script to classify a given year as a leap year or not."
   ]
  },
  {
   "cell_type": "code",
   "execution_count": 89,
   "id": "4a9a2491",
   "metadata": {},
   "outputs": [
    {
     "name": "stdout",
     "output_type": "stream",
     "text": [
      "Enter the year : 2004\n",
      "This is a leap year\n"
     ]
    }
   ],
   "source": [
    "year=int(input(\"Enter the year : \"))\n",
    "if (year%4==0) and (year%100!=0) or (year%400==0):\n",
    "    print(\"This is a leap year\")\n",
    "else:\n",
    "    print(\"This is not a leap year\")"
   ]
  },
  {
   "cell_type": "markdown",
   "id": "fac82c34",
   "metadata": {},
   "source": [
    "### Create a program that checks whether a character is a vowel or a consonant."
   ]
  },
  {
   "cell_type": "code",
   "execution_count": 23,
   "id": "f142b037",
   "metadata": {},
   "outputs": [
    {
     "name": "stdout",
     "output_type": "stream",
     "text": [
      "Enter a character : o\n",
      "It is a vowel\n"
     ]
    }
   ],
   "source": [
    "char=input(\"Enter a character : \")\n",
    "char=char.lower()\n",
    "if char==\"a\" or char==\"e\" or char==\"i\" or char==\"o\" or char==\"u\":\n",
    "    print(\"It is a vowel\")\n",
    "else:\n",
    "    print(\"It is a consonant\")"
   ]
  },
  {
   "cell_type": "markdown",
   "id": "2e011cdf",
   "metadata": {},
   "source": [
    "### Implement a program to determine whether a given number is even or odd."
   ]
  },
  {
   "cell_type": "code",
   "execution_count": 27,
   "id": "92ec5656",
   "metadata": {},
   "outputs": [
    {
     "name": "stdout",
     "output_type": "stream",
     "text": [
      "Enter a number : 10\n",
      "Entered no. is even\n"
     ]
    }
   ],
   "source": [
    "check=int(input(\"Enter a number : \"))\n",
    "if check%2==0:\n",
    "    print(\"Entered no. is even\")\n",
    "else:\n",
    "    print(\"Entered no. is odd\")"
   ]
  },
  {
   "cell_type": "markdown",
   "id": "ebd3f904",
   "metadata": {},
   "source": [
    "### Write a Python function to calculate the absolute value of a number without using the `abs()` function.\n"
   ]
  },
  {
   "cell_type": "code",
   "execution_count": 48,
   "id": "162e762d",
   "metadata": {},
   "outputs": [
    {
     "name": "stdout",
     "output_type": "stream",
     "text": [
      "Enter a number : -66\n",
      "66\n"
     ]
    }
   ],
   "source": [
    "num4=int(input(\"Enter a number : \"))\n",
    "if num4<0:\n",
    "    print(num4*(-1))\n",
    "else:\n",
    "    print(num4)"
   ]
  },
  {
   "cell_type": "markdown",
   "id": "fea9614c",
   "metadata": {},
   "source": [
    "### Develop a program that determines the largest of three given numbers using if-else statements."
   ]
  },
  {
   "cell_type": "code",
   "execution_count": 51,
   "id": "1c96d1df",
   "metadata": {},
   "outputs": [
    {
     "name": "stdout",
     "output_type": "stream",
     "text": [
      "Enter First no. : 55\n",
      "Enter Second no. : 66\n",
      "Enter Third no. : 99\n",
      "The greatest no. is : 99\n"
     ]
    }
   ],
   "source": [
    "n1=int(input(\"Enter First no. : \"))\n",
    "n2=int(input(\"Enter Second no. : \"))\n",
    "n3=int(input(\"Enter Third no. : \"))\n",
    "if (n1>n2) and (n1>n3):\n",
    "    largest=n1\n",
    "elif (n2>n1) and (n2>n3):\n",
    "    largest=n2\n",
    "else:\n",
    "    largest=n3\n",
    "print(\"The greatest no. is :\",largest)"
   ]
  },
  {
   "cell_type": "markdown",
   "id": "e8ba5c4f",
   "metadata": {},
   "source": [
    "### Create a program that checks if a given string is a palindrome."
   ]
  },
  {
   "cell_type": "code",
   "execution_count": 58,
   "id": "1f2b19d3",
   "metadata": {},
   "outputs": [
    {
     "name": "stdout",
     "output_type": "stream",
     "text": [
      "Enter the string : madam\n",
      "it is a palindrome\n"
     ]
    }
   ],
   "source": [
    "str1=input(\"Enter the string : \")\n",
    "str2=str1[::-1]\n",
    "if str2==str1:\n",
    "    print(\"it is a palindrome\")\n",
    "else:\n",
    "    print(\"it is not a palindrome\")"
   ]
  },
  {
   "cell_type": "markdown",
   "id": "1b2c25a8",
   "metadata": {},
   "source": [
    "### Write a Python program to calculate the grade based on a student's score."
   ]
  },
  {
   "cell_type": "code",
   "execution_count": 64,
   "id": "189b2e41",
   "metadata": {},
   "outputs": [
    {
     "name": "stdout",
     "output_type": "stream",
     "text": [
      "Enter the number out of 100 : 89\n",
      "You get 'E'\n"
     ]
    }
   ],
   "source": [
    "marks=int(input(\"Enter the number out of 100 : \"))\n",
    "if 90<=marks<=100:\n",
    "    print(\"You get 'O'\")\n",
    "elif 80<=marks<90:\n",
    "    print(\"You get 'E'\")\n",
    "elif 70<=marks<80:\n",
    "    print(\"you get 'A'\")\n",
    "elif 60<=marks<70:\n",
    "    print(\"you get 'B'\")\n",
    "elif 50<=marks<60:\n",
    "    print(\"you get 'C'\")\n",
    "elif 40<=marks<50:\n",
    "    print(\"you get 'D'\")\n",
    "elif marks<40:\n",
    "    print(\"you get 'F'\")\n",
    "elif marks>100:\n",
    "    print(\"invalid input\")"
   ]
  },
  {
   "cell_type": "markdown",
   "id": "8bd64e17",
   "metadata": {},
   "source": [
    "# Nested If-Else Statements:"
   ]
  },
  {
   "cell_type": "markdown",
   "id": "e82354ea",
   "metadata": {},
   "source": [
    "### Write a program to find the largest among three numbers using nested if-else statements."
   ]
  },
  {
   "cell_type": "code",
   "execution_count": 77,
   "id": "8e3b65df",
   "metadata": {},
   "outputs": [
    {
     "name": "stdout",
     "output_type": "stream",
     "text": [
      "Enter First no. : 99\n",
      "Enter Second no. : 80\n",
      "Enter Third no. : 66\n",
      "The greatest no. is : 99\n"
     ]
    }
   ],
   "source": [
    "n1=int(input(\"Enter First no. : \"))\n",
    "n2=int(input(\"Enter Second no. : \"))\n",
    "n3=int(input(\"Enter Third no. : \"))\n",
    "if (n1>n2):\n",
    "    if (n1>n3):\n",
    "        largest = n1\n",
    "    else:\n",
    "        largest = n3\n",
    "elif (n2>n3):\n",
    "    largest = n2\n",
    "else:\n",
    "    largest=n3\n",
    "print(\"The greatest no. is :\",largest)"
   ]
  },
  {
   "cell_type": "markdown",
   "id": "3b886c33",
   "metadata": {},
   "source": [
    "### Implement a program to determine if a triangle is equilateral, isosceles, or scalene."
   ]
  },
  {
   "cell_type": "code",
   "execution_count": 85,
   "id": "5edcf3e6",
   "metadata": {},
   "outputs": [
    {
     "name": "stdout",
     "output_type": "stream",
     "text": [
      "Enter First side of triangle : 12\n",
      "Enter Second side of triangle : 45\n",
      "Enter Third side of triangle : 78\n",
      "It is a scalene triangle\n"
     ]
    }
   ],
   "source": [
    "side1=int(input(\"Enter First side of triangle : \"))\n",
    "side2=int(input(\"Enter Second side of triangle : \"))\n",
    "side3=int(input(\"Enter Third side of triangle : \"))\n",
    "if side1==side2:\n",
    "    if side1==side3:\n",
    "        print(\"It is a equilateral triangle\")\n",
    "    else:\n",
    "        print(\"It is a isosceles triangle\")\n",
    "elif side1==side3:\n",
    "    print(\"It is a isosceles triangle\")\n",
    "elif side2==side3:\n",
    "    print(\"It is a isosceles triangle\")\n",
    "else:\n",
    "    print(\"It is a scalene triangle\")"
   ]
  },
  {
   "cell_type": "markdown",
   "id": "7cc5c5a5",
   "metadata": {},
   "source": [
    "### Develop a program that determines the type of angle based on its measure (acute, obtuse, or right)."
   ]
  },
  {
   "cell_type": "code",
   "execution_count": 3,
   "id": "7817336a",
   "metadata": {
    "scrolled": true
   },
   "outputs": [
    {
     "name": "stdout",
     "output_type": "stream",
     "text": [
      "Enter a angle : 112\n",
      "it is an obtuse angle\n"
     ]
    }
   ],
   "source": [
    "angle_1=int(input(\"Enter a angle : \"))\n",
    "if 0<angle_1<90:\n",
    "    print(\"it is an acute angle\")\n",
    "elif 90<angle_1<180:\n",
    "    print(\"it is an obtuse angle\")\n",
    "elif angle_1==90:\n",
    "    print(\"it is a right angle\")"
   ]
  },
  {
   "cell_type": "markdown",
   "id": "15cf1a47",
   "metadata": {},
   "source": [
    "###  Write a Python program to calculate the roots of a quadratic equation."
   ]
  },
  {
   "cell_type": "code",
   "execution_count": 21,
   "id": "65110d8a",
   "metadata": {},
   "outputs": [
    {
     "name": "stdout",
     "output_type": "stream",
     "text": [
      "The solution are -2.75 and -2.25\n"
     ]
    }
   ],
   "source": [
    "a = 1\n",
    "b = 5\n",
    "c = 6\n",
    "if a!=0:\n",
    "    if (b**2)>(4*a*c):\n",
    "        d = ((b**2) - (4*a*c))**1/2\n",
    "\n",
    "        sol1 = ((-b -d)/(2*a))\n",
    "        sol2 = ((-b+d)/(2*a))\n",
    "        print('The solution are {0} and {1}'.format(sol1,sol2))\n",
    "    else:\n",
    "        print(\"No real roots\")\n",
    "else:\n",
    "    print(\"a must not be 0\")"
   ]
  },
  {
   "cell_type": "markdown",
   "id": "68c20edb",
   "metadata": {},
   "source": [
    "# Advanced Level:"
   ]
  },
  {
   "cell_type": "markdown",
   "id": "71350814",
   "metadata": {},
   "source": [
    "###  Create a program that calculates the income tax based on the user's income and tax brackets"
   ]
  },
  {
   "cell_type": "code",
   "execution_count": 1,
   "id": "d7ae8df6",
   "metadata": {},
   "outputs": [
    {
     "name": "stdout",
     "output_type": "stream",
     "text": [
      "Please enter your taxable income: 650465\n",
      "65046.5\n"
     ]
    }
   ],
   "source": [
    "income = int(input(\"Please enter your taxable income: \"))\n",
    "if income <= 250000:\n",
    "    tax = 0\n",
    "elif 250000<income<=500000: \n",
    "    tax = 0.05*income\n",
    "elif 500000<income<=750000:\n",
    "    tax = income*0.1\n",
    "elif 750000<income<=1000000:\n",
    "    tax = income*0.15\n",
    "elif 1000000<income<=1250000:\n",
    "     tax = income*0.2\n",
    "elif 1250000<income<=1500000:\n",
    "     tax = income*0.25\n",
    "elif 1500000<income:\n",
    "     tax = income*0.3\n",
    "print(tax)"
   ]
  },
  {
   "cell_type": "markdown",
   "id": "7f948fb7",
   "metadata": {},
   "source": [
    "### Write a program that simulates a rock-paper-scissors game against the computer."
   ]
  },
  {
   "cell_type": "code",
   "execution_count": 58,
   "id": "90fa432b",
   "metadata": {},
   "outputs": [
    {
     "name": "stdout",
     "output_type": "stream",
     "text": [
      "---------------ROCK-PAPER-SCISSORS Game---------------\n",
      "Press '1' for Rock\n",
      "Press '2' for Paper\n",
      "Press '3' for Scissors\n",
      "Enter your coice : 2\n",
      "You Choose : 'Paper'\n",
      "Computer Choose : 'Rock'\n",
      "----You Won----\n"
     ]
    }
   ],
   "source": [
    "import random\n",
    "print(\"---------------ROCK-PAPER-SCISSORS Game---------------\")\n",
    "print(\"Press '1' for Rock\\nPress '2' for Paper\\nPress '3' for Scissors\")\n",
    "choice_1=int(input(\"Enter your coice : \"))\n",
    "if 0<choice_1<4:\n",
    "    if choice_1==1:\n",
    "        print(\"You Choose : 'Rock'\")\n",
    "    elif choice_1==2:\n",
    "        print(\"You Choose : 'Paper'\")\n",
    "    elif choice_1==3:\n",
    "        print(\"You Choose : 'Scissor'\")\n",
    "    choice_2=random.randint(1,3)\n",
    "    if choice_2==1:\n",
    "        print(\"Computer Choose : 'Rock'\")\n",
    "    elif choice_2==2:\n",
    "        print(\"Computer Choose : 'Paper'\")\n",
    "    elif choice_2==3:\n",
    "        print(\"Computer Choose : 'Scissor'\")\n",
    "    if choice_1==choice_2:\n",
    "        print(\"-----Match Draw-----\")\n",
    "    elif choice_1!=choice_2:\n",
    "        if choice_1==1 and choice_2==2:\n",
    "            print(\"----Computer Won----\")\n",
    "        if choice_1==1 and choice_2==3:\n",
    "            print(\"----You Won----\")\n",
    "        if choice_1==2 and choice_2==1:\n",
    "            print(\"----You Won----\")\n",
    "        if choice_1==2 and choice_2==3:\n",
    "            print(\"----Computer Won----\")\n",
    "        if choice_1==3 and choice_2==2:\n",
    "            print(\"----You Won----\")\n",
    "        if choice_1==3 and choice_2==1:\n",
    "            print(\"----Computer Won----\")\n",
    "else:\n",
    "    print(\"Wrong Input\")"
   ]
  },
  {
   "cell_type": "markdown",
   "id": "92297752",
   "metadata": {},
   "source": [
    "###  Develop a program that generates a random password based on user preferences (length, complexity)."
   ]
  },
  {
   "cell_type": "code",
   "execution_count": 2,
   "id": "9d6bfd8f",
   "metadata": {},
   "outputs": [
    {
     "name": "stdout",
     "output_type": "stream",
     "text": [
      "Enter the length of password : 10\n",
      "Choose character set for password from these :\n",
      "         1. Digits\n",
      "         2. Letters\n",
      "         3. Digits + letters\n",
      "         4. Digits + Special Characters\n",
      "         5. Letters + Special Characters\n",
      "         6. Digits + letters + Special Characters\n",
      "Enter Your Choice : 6\n",
      "Password generated: qrfe$m&qp0\n"
     ]
    }
   ],
   "source": [
    "import random\n",
    "\n",
    "password_length = int(input(\"Enter the length of password : \"))\n",
    "print('''Choose character set for password from these :\n",
    "         1. Digits\n",
    "         2. Letters\n",
    "         3. Digits + letters\n",
    "         4. Digits + Special Characters\n",
    "         5. Letters + Special Characters\n",
    "         6. Digits + letters + Special Characters''')\n",
    "choice_3=int(input(\"Enter Your Choice : \"))\n",
    "digits_1= \"1234567890\"\n",
    "letters_1= \"abcdefghijklmnopqrstuvwxyz\"\n",
    "diglet_1= \"abcdefghijklmnopqrstuvwxyz1234567890\"\n",
    "digspe_1= \"1234567890@#$&*\"\n",
    "letspe_1= \"abcdefghijklmnopqrstuvwxyz@#$&\"\n",
    "digletspe_1 = \"abcdefghijklmnopqrstuvwxyz1234567890@#$&\"\n",
    "password = \"\"   \n",
    "if choice_3==1:\n",
    "    for index in range(password_length):\n",
    "        password = password + random.choice(digits_1)\n",
    "    print(\"Password generated: {}\".format(password))\n",
    "elif choice_3==2:\n",
    "    for index in range(password_length):\n",
    "        password = password + random.choice(letters_1)\n",
    "    print(\"Password generated: {}\".format(password))    \n",
    "elif choice_3==3:\n",
    "    for index in range(password_length):\n",
    "        password = password + random.choice(diglet_1)\n",
    "    print(\"Password generated: {}\".format(password))\n",
    "elif choice_3==4:\n",
    "    for index in range(password_length):\n",
    "        password = password + random.choice(digspe_1)\n",
    "    print(\"Password generated: {}\".format(password))\n",
    "elif choice_3==5:\n",
    "    for index in range(password_length):\n",
    "        password = password + random.choice(letspe_1)\n",
    "    print(\"Password generated: {}\".format(password))\n",
    "elif choice_3==6:\n",
    "    for index in range(password_length):\n",
    "        password = password + random.choice(digletspe_1)\n",
    "    print(\"Password generated: {}\".format(password))\n",
    "else:\n",
    "    print(\"Invalid Input\")"
   ]
  },
  {
   "cell_type": "markdown",
   "id": "f20d6d1b",
   "metadata": {},
   "source": [
    "###  Write a program that simulates a basic quiz game with multiple-choice questions and scoring."
   ]
  },
  {
   "cell_type": "code",
   "execution_count": 9,
   "id": "7a0c26b7",
   "metadata": {},
   "outputs": [
    {
     "name": "stdout",
     "output_type": "stream",
     "text": [
      "Hello, welcome to Quiz \n",
      "You will be presented with 5 questions each question contains 1 mark.\n",
      "Enter the appropriate number to answer the question\n",
      "Good luck!\n",
      "\n",
      "A. Which was the largest site of Indus Civilization?\n",
      "1. Mohenjodaro\n",
      "2. Lothal\n",
      "3. Chanhudaro\n",
      "4. Dholavira\n",
      "\n",
      "Your answer is : 1\n",
      "Well done! Option 1 is correct!\n",
      "Your current score is 1 out of 5\n",
      "\n",
      "B. Arya Samaj was started by-\n",
      "1. Swami Vivekananda\n",
      "2. Raja Ram Mohan Roy\n",
      "3. Swami Dayanand Saraswati\n",
      "4. Gopal Krishna Gokhale\n",
      "\n",
      "Your answer is : 3\n",
      "Well done! Option 3 is correct!\n",
      "Your current score is 2 out of 5\n",
      "\n",
      "C. The only state in India that produces saffron is _\n",
      "1. Assam\n",
      "2. Himachal Pradesh\n",
      "3. Jammu and Kashmir\n",
      "4. Meghalaya\n",
      "\n",
      "Your answer is : 3\n",
      "Well done! Option 3 is correct!\n",
      "Your current score is 3 out of 5\n",
      "\n",
      "D. Bannerghatta National Park is situated in\n",
      "1. Meghalaya\n",
      "2. Rajasthan\n",
      "3. Madhya Pradesh\n",
      "4. Karnataka\n",
      "\n",
      "Your answer is : 4\n",
      "Well done! Option 4 is correct!\n",
      "Your current score is 4 out of 5\n",
      "\n",
      "E. Which Indian state is the largest producer in the world of the golden coloured ‘Muga’ silk ?\n",
      "1. Assam\n",
      "2. Odisha\n",
      "3. West Bengal\n",
      "4. Karnataka\n",
      "\n",
      "Your answer is : 1\n",
      "Well done! Option 1 is correct!\n",
      "\n",
      "\n",
      "Your total score is 5 out of 5\n",
      "Thank you for playing ,goodbye!\n"
     ]
    }
   ],
   "source": [
    "score = 0\n",
    "\n",
    "print(\"\"\"Hello, welcome to Quiz \n",
    "You will be presented with 5 questions each question contains 1 mark.\n",
    "Enter the appropriate number to answer the question\n",
    "Good luck!\"\"\")\n",
    "\n",
    "#Question1\n",
    "print(\"\"\"\\nA. Which was the largest site of Indus Civilization?\n",
    "1. Mohenjodaro\n",
    "2. Lothal\n",
    "3. Chanhudaro\n",
    "4. Dholavira\\n\"\"\")\n",
    "\n",
    "answer1 = 1\n",
    "response1 = int(input(\"Your answer is : \"))\n",
    "\n",
    "if (response1 != answer1):\n",
    "    print(\"Sorry, that is incorrect!\")\n",
    "else:\n",
    "    print(\"Well done! Option \" + str(response1) + \" is correct!\")\n",
    "    score = score + 1\n",
    "\n",
    "print(\"Your current score is \" + str(score) + \" out of 5\")\n",
    "\n",
    "#Question2\n",
    "print(\"\"\"\\nB. Arya Samaj was started by-\n",
    "1. Swami Vivekananda\n",
    "2. Raja Ram Mohan Roy\n",
    "3. Swami Dayanand Saraswati\n",
    "4. Gopal Krishna Gokhale\\n\"\"\")\n",
    "\n",
    "answer2 = 3\n",
    "response2 = int(input(\"Your answer is : \"))\n",
    "\n",
    "if (response2 != answer2):\n",
    "    print(\"Sorry, that is incorrect!\")\n",
    "else:\n",
    "    print(\"Well done! Option \" + str(response2) + \" is correct!\")\n",
    "    score = score + 1\n",
    "\n",
    "print(\"Your current score is \" + str(score) + \" out of 5\")\n",
    "\n",
    "#Question3\n",
    "print(\"\"\"\\nC. The only state in India that produces saffron is _\n",
    "1. Assam\n",
    "2. Himachal Pradesh\n",
    "3. Jammu and Kashmir\n",
    "4. Meghalaya\\n\"\"\")\n",
    "\n",
    "answer3 = 3\n",
    "response3 = int(input(\"Your answer is : \"))\n",
    "\n",
    "if (response3 != answer3):\n",
    "    print(\"Sorry, that is incorrect!\")\n",
    "else:\n",
    "    print(\"Well done! Option \" + str(response3) + \" is correct!\")\n",
    "    score = score + 1\n",
    "\n",
    "print(\"Your current score is \" + str(score) + \" out of 5\")\n",
    "\n",
    "#Question4\n",
    "print(\"\"\"\\nD. Bannerghatta National Park is situated in\n",
    "1. Meghalaya\n",
    "2. Rajasthan\n",
    "3. Madhya Pradesh\n",
    "4. Karnataka\\n\"\"\")\n",
    "\n",
    "answer4 = 4\n",
    "response4 = int(input(\"Your answer is : \"))\n",
    "\n",
    "if (response4 != answer4):\n",
    "    print(\"Sorry, that is incorrect!\")\n",
    "else:\n",
    "    print(\"Well done! Option \" + str(response4) + \" is correct!\")\n",
    "    score = score + 1\n",
    "\n",
    "print(\"Your current score is \" + str(score) + \" out of 5\")\n",
    "\n",
    "#Question5\n",
    "print(\"\"\"\\nE. Which Indian state is the largest producer in the world of the golden coloured ‘Muga’ silk ?\n",
    "1. Assam\n",
    "2. Odisha\n",
    "3. West Bengal\n",
    "4. Karnataka\\n\"\"\")\n",
    "\n",
    "answer5 = 1\n",
    "response5 = int(input(\"Your answer is : \"))\n",
    "\n",
    "if (response5 != answer5):\n",
    "    print(\"Sorry, that is incorrect!\")\n",
    "else:\n",
    "    print(\"Well done! Option \" + str(response5) + \" is correct!\")\n",
    "    score = score + 1\n",
    "\n",
    "print(\"\\n\\nYour total score is \" + str(score) + \" out of 5\")\n",
    "print(\"Thank you for playing ,goodbye!\")"
   ]
  },
  {
   "cell_type": "markdown",
   "id": "96f993e5",
   "metadata": {},
   "source": [
    "###  Create a program that sorts three numbers in ascending order using conditional statements."
   ]
  },
  {
   "cell_type": "code",
   "execution_count": 10,
   "id": "5ef7cd71",
   "metadata": {},
   "outputs": [
    {
     "name": "stdout",
     "output_type": "stream",
     "text": [
      "Enter three Numbers : \n",
      "30\n",
      "20\n",
      "10\n",
      "Entered Numbers are :  [30, 20, 10]\n",
      "After shorting : \n",
      "10 20 30 "
     ]
    }
   ],
   "source": [
    "print(\"Enter three Numbers : \")\n",
    "list_1=[]\n",
    "list_2=[]\n",
    "for i in range(3):\n",
    "    num1=int(input())\n",
    "    list_1.append(num1)\n",
    "print(\"Entered Numbers are : \",list_1)\n",
    "if list_1[0]<list_1[1] and list_1[0]<list_1[2]:\n",
    "    list_2.append(list_1[0])\n",
    "    if list_1[1]<list_1[2]:\n",
    "        list_2.append(list_1[1])\n",
    "        list_2.append(list_1[2])\n",
    "    else:\n",
    "        list_2.append(list_1[2])\n",
    "        list_2.append(list_1[1])\n",
    "elif list_1[1]<list_1[2] and list_1[1]<list_1[0]:\n",
    "    list_2.append(list_1[1])\n",
    "    if list_1[0]<list_1[2]:\n",
    "        list_2.append(list_1[0])\n",
    "        list_2.append(list_1[2])\n",
    "    else:\n",
    "        list_2.append(list_1[2])\n",
    "        list_2.append(list_1[0])\n",
    "elif list_1[2]<list_1[0] and list_1[2]<list_1[1]:\n",
    "    list_2.append(list_1[2])\n",
    "    if list_1[0]<list_1[1]:\n",
    "        list_2.append(list_1[0])\n",
    "        list_2.append(list_1[1])\n",
    "    else:\n",
    "        list_2.append(list_1[1])\n",
    "        list_2.append(list_1[0])\n",
    "print(\"After shorting : \")\n",
    "for i in list_2:\n",
    "    print(i,end=\" \")"
   ]
  },
  {
   "cell_type": "markdown",
   "id": "73c8dae0",
   "metadata": {},
   "source": [
    "# Challenge Level:"
   ]
  },
  {
   "cell_type": "markdown",
   "id": "7e71da79",
   "metadata": {},
   "source": [
    "###  Develop a program that performs matrix addition and subtraction based on user input."
   ]
  },
  {
   "cell_type": "code",
   "execution_count": 35,
   "id": "9218f31e",
   "metadata": {},
   "outputs": [
    {
     "name": "stdout",
     "output_type": "stream",
     "text": [
      "Enter the elements of matrix 1 :\n",
      "5\n",
      "6\n",
      "7\n",
      "8\n",
      "Enter the elements of matrix 2 :\n",
      "2\n",
      "1\n",
      "3\n",
      "4\n",
      "\n",
      "Matrix 1 : \n",
      "5\t6\t\n",
      "7\t8\t\n",
      "\n",
      "Matrix 2 : \n",
      "2\t1\t\n",
      "3\t4\t\n",
      "\n",
      "Sum : \n",
      "7\t7\t\n",
      "10\t12\t\n",
      "\n",
      "Difference : \n",
      "3\t5\t\n",
      "4\t4\t\n"
     ]
    }
   ],
   "source": [
    "row = 2\n",
    "column = 2\n",
    "matrix_1=[]\n",
    "matrix_2=[]\n",
    "\n",
    "print(\"Enter the elements of matrix 1 :\")\n",
    "for i in range(row):\n",
    "    temp1=[]\n",
    "    for j in range(column):\n",
    "        temp1.append(int(input()))\n",
    "    matrix_1.append(temp1)\n",
    "\n",
    "print(\"Enter the elements of matrix 2 :\")\n",
    "for i in range(row):\n",
    "    temp2=[]\n",
    "    for j in range(column):\n",
    "        temp2.append(int(input()))\n",
    "    matrix_2.append(temp2)\n",
    "\n",
    "print(\"\\nMatrix 1 : \")\n",
    "for i in range(row):\n",
    "    for j in range(column):\n",
    "        print(matrix_1[i][j], end = \"\\t\")\n",
    "    print()\n",
    "\n",
    "print(\"\\nMatrix 2 : \")\n",
    "for i in range(row):\n",
    "    for j in range(column):\n",
    "        print(matrix_2[i][j], end = \"\\t\")\n",
    "    print()\n",
    "\n",
    "result_1 = [[0, 0], [0, 0]]\n",
    "for i in range(row):\n",
    "    for j in range(column):\n",
    "        result_1[i][j] = matrix_1[i][j] + matrix_2[i][j]\n",
    "\n",
    "result_2 = [[0, 0], [0, 0]]\n",
    "for i in range(row):\n",
    "    for j in range(column):\n",
    "        result_2[i][j] = matrix_1[i][j] - matrix_2[i][j]\n",
    "\n",
    "print(\"\\nSum : \")\n",
    "for i in range(row):\n",
    "    for j in range(column):\n",
    "        print(result_1[i][j], end = \"\\t\")\n",
    "    print()   \n",
    "\n",
    "print(\"\\nDifference : \")\n",
    "for i in range(row):\n",
    "    for j in range(column):\n",
    "        print(result_2[i][j], end = \"\\t\")\n",
    "    print()   "
   ]
  },
  {
   "cell_type": "markdown",
   "id": "3a39c320",
   "metadata": {},
   "source": [
    "###  Write a program that calculates the greatest common divisor (GCD) of two numbers using the Euclidean algorithm"
   ]
  },
  {
   "cell_type": "code",
   "execution_count": 62,
   "id": "71a822cf",
   "metadata": {},
   "outputs": [],
   "source": [
    "def gcd(A,B):\n",
    "    if (A < B):\n",
    "        return gcd(B,A)\n",
    "    if (B == 0):\n",
    "        return A\n",
    "    return gcd(B, A%B)"
   ]
  },
  {
   "cell_type": "code",
   "execution_count": 64,
   "id": "5b5045b2",
   "metadata": {},
   "outputs": [
    {
     "data": {
      "text/plain": [
       "57"
      ]
     },
     "execution_count": 64,
     "metadata": {},
     "output_type": "execute_result"
    }
   ],
   "source": [
    "gcd(285,741)"
   ]
  },
  {
   "cell_type": "markdown",
   "id": "67709f94",
   "metadata": {},
   "source": [
    "### Build a program that performs matrix multiplication using nested loops and conditional statements."
   ]
  },
  {
   "cell_type": "code",
   "execution_count": 70,
   "id": "77ba2be9",
   "metadata": {},
   "outputs": [
    {
     "name": "stdout",
     "output_type": "stream",
     "text": [
      "Enter the elements of matrix 1 :\n",
      "1\n",
      "2\n",
      "3\n",
      "4\n",
      "Enter the elements of matrix 2 :\n",
      "5\n",
      "6\n",
      "7\n",
      "8\n",
      "\n",
      "Matrix 1 : \n",
      "1\t2\t\n",
      "3\t4\t\n",
      "\n",
      "Matrix 2 : \n",
      "5\t6\t\n",
      "7\t8\t\n",
      "\n",
      "Product: \n",
      "14\t16\t\n",
      "28\t32\t\n"
     ]
    }
   ],
   "source": [
    "row = 2\n",
    "column = 2\n",
    "matrix_1=[]\n",
    "matrix_2=[]\n",
    "\n",
    "print(\"Enter the elements of matrix 1 :\")\n",
    "for i in range(row):\n",
    "    temp1=[]\n",
    "    for j in range(column):\n",
    "        temp1.append(int(input()))\n",
    "    matrix_1.append(temp1)\n",
    "\n",
    "print(\"Enter the elements of matrix 2 :\")\n",
    "for i in range(row):\n",
    "    temp2=[]\n",
    "    for j in range(column):\n",
    "        temp2.append(int(input()))\n",
    "    matrix_2.append(temp2)\n",
    "\n",
    "print(\"\\nMatrix 1 : \")\n",
    "for i in range(row):\n",
    "    for j in range(column):\n",
    "        print(matrix_1[i][j], end = \"\\t\")\n",
    "    print()\n",
    "\n",
    "print(\"\\nMatrix 2 : \")\n",
    "for i in range(row):\n",
    "    for j in range(column):\n",
    "        print(matrix_2[i][j], end = \"\\t\")\n",
    "    print()\n",
    "result_1 = [[0, 0], [0, 0]]\n",
    "for i in range(2):\n",
    "    for j in range(2):\n",
    "        for k in range(2):\n",
    "            result_1[i][j] = matrix_1[i][k] * matrix_2[k][j]\n",
    "print(\"\\nProduct: \")\n",
    "for i in range(row):\n",
    "    for j in range(column):\n",
    "        print(result_1[i][j], end = \"\\t\")\n",
    "    print()"
   ]
  },
  {
   "cell_type": "code",
   "execution_count": null,
   "id": "c03f6132",
   "metadata": {},
   "outputs": [],
   "source": []
  }
 ],
 "metadata": {
  "kernelspec": {
   "display_name": "Python 3 (ipykernel)",
   "language": "python",
   "name": "python3"
  },
  "language_info": {
   "codemirror_mode": {
    "name": "ipython",
    "version": 3
   },
   "file_extension": ".py",
   "mimetype": "text/x-python",
   "name": "python",
   "nbconvert_exporter": "python",
   "pygments_lexer": "ipython3",
   "version": "3.9.13"
  }
 },
 "nbformat": 4,
 "nbformat_minor": 5
}
